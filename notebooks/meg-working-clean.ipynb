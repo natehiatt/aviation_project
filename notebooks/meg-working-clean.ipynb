{
 "cells": [
  {
   "cell_type": "markdown",
   "metadata": {},
   "source": [
    "# Aviation Risk Project"
   ]
  },
  {
   "cell_type": "markdown",
   "metadata": {},
   "source": [
    "### Business Problem\n",
    "\n",
    " Company X is expanding into new industries to diversify its portfolio. Specifically, they are interested in purchasing and operating airplanes for commercial and private enterprises, but do not know anything about the potential risks of aircraft. You are charged with determining which aircrafts are the lowest risk for the company to start this new business endeavor. You must then translate your findings into actionable insights that the head of the new aviation division can use to help decide which aircraft to purchase.\n",
    "\n",
    "- Goals\n",
    "    - Identify causes of aviation accidents and risk factors\n",
    "    - Assess aircraft options to find lowest risk options\n",
    "    - Also consider: regulatory compliance, maintenance requirements, insurance costs, industry standards, capacity, fuel efficiency\n",
    "- Data\n",
    "    - Aviation accidents from 1962 to 2023\n",
    "    - Includes civil accidents and selected incidents in the US and international waters\n",
    "- Methods\n",
    "- Results"
   ]
  },
  {
   "cell_type": "code",
   "execution_count": null,
   "metadata": {},
   "outputs": [],
   "source": [
    "import pandas as pd\n",
    "import numpy as np\n",
    "import matplotlib.pyplot as plt"
   ]
  },
  {
   "cell_type": "code",
   "execution_count": null,
   "metadata": {},
   "outputs": [],
   "source": [
    "df = pd.read_csv('../data/AviationData_cleaned.csv')"
   ]
  },
  {
   "cell_type": "markdown",
   "metadata": {},
   "source": [
    "### Look into make - cessna vs boeing filter out by xize of company and planes it makes"
   ]
  },
  {
   "cell_type": "code",
   "execution_count": 40,
   "metadata": {},
   "outputs": [
    {
     "data": {
      "text/plain": [
       "cessna                         7730\n",
       "piper                          4368\n",
       "beech                          1522\n",
       "large commercial                536\n",
       "mooney                          437\n",
       "                               ... \n",
       "piaggio aero industries spa       1\n",
       "new kolb aircraft co              1\n",
       "loehle aircraft corp              1\n",
       "aeromot                           1\n",
       "weiss denis                       1\n",
       "Name: Make.Binned, Length: 967, dtype: int64"
      ]
     },
     "execution_count": 40,
     "metadata": {},
     "output_type": "execute_result"
    }
   ],
   "source": [
    "df['Make.Binned'].value_counts()"
   ]
  },
  {
   "cell_type": "code",
   "execution_count": 38,
   "metadata": {},
   "outputs": [],
   "source": [
    "# New column 'Make.Binned' to group 'Make' into categories by plane size\n",
    "# New category 'large commercial' to include 'boeing'\n",
    "df['Make.Binned'] = df['Make'].replace(['boeing', 'airbus'], 'large commercial')\n",
    "\n",
    "# New category '\n",
    "#df['Make.Binned'] = df['Make.Binned'].replace"
   ]
  },
  {
   "cell_type": "markdown",
   "metadata": {},
   "source": [
    "# Changes Added to data_cleaning"
   ]
  },
  {
   "cell_type": "code",
   "execution_count": null,
   "metadata": {},
   "outputs": [],
   "source": [
    "# Creating a column for the year and insert next to Event.Date\n",
    "df['Year'] = df['Event.Date'].dt.year\n",
    "df.insert(4, 'Year', df.pop('Year'))"
   ]
  },
  {
   "cell_type": "code",
   "execution_count": null,
   "metadata": {},
   "outputs": [],
   "source": [
    "# Filtering out 'Amateur.Built' aircraft and removing column\n",
    "df = df[df['Amateur.Built'] == 'no']\n",
    "df = df.drop(columns=['Amateur.Built'])"
   ]
  },
  {
   "cell_type": "code",
   "execution_count": null,
   "metadata": {},
   "outputs": [],
   "source": [
    "# Filtering out all non-'airplane' incidents and removing column\n",
    "df = df[df['Aircraft.Category'] == 'airplane']\n",
    "df = df.drop(columns=['Aircraft.Category'])"
   ]
  },
  {
   "cell_type": "code",
   "execution_count": null,
   "metadata": {},
   "outputs": [],
   "source": [
    "# Filtering out non-US incidents and removing column\n",
    "df = df[df['Country'] == 'united states']\n",
    "df = df.drop(columns=['Country'])"
   ]
  }
 ],
 "metadata": {
  "kernelspec": {
   "display_name": "learn-env",
   "language": "python",
   "name": "python3"
  },
  "language_info": {
   "codemirror_mode": {
    "name": "ipython",
    "version": 3
   },
   "file_extension": ".py",
   "mimetype": "text/x-python",
   "name": "python",
   "nbconvert_exporter": "python",
   "pygments_lexer": "ipython3",
   "version": "3.8.5"
  }
 },
 "nbformat": 4,
 "nbformat_minor": 2
}
