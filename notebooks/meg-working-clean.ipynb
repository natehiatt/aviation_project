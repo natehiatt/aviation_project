{
 "cells": [
  {
   "cell_type": "markdown",
   "metadata": {},
   "source": [
    "# Aviation Risk Project"
   ]
  },
  {
   "cell_type": "markdown",
   "metadata": {},
   "source": [
    "### Business Problem\n",
    "\n",
    " Company X is expanding into new industries to diversify its portfolio. Specifically, they are interested in purchasing and operating airplanes for commercial and private enterprises, but do not know anything about the potential risks of aircraft. You are charged with determining which aircrafts are the lowest risk for the company to start this new business endeavor. You must then translate your findings into actionable insights that the head of the new aviation division can use to help decide which aircraft to purchase.\n",
    "\n",
    "- Goals\n",
    "    - Identify causes of aviation accidents and risk factors\n",
    "    - Assess aircraft options to find lowest risk options\n",
    "    - Also consider: regulatory compliance, maintenance requirements, insurance costs, industry standards, capacity, fuel efficiency\n",
    "- Data\n",
    "    - Aviation accidents from 1962 to 2023\n",
    "    - Includes civil accidents and selected incidents in the US and international waters\n",
    "- Methods\n",
    "- Results"
   ]
  },
  {
   "cell_type": "code",
   "execution_count": 1,
   "metadata": {},
   "outputs": [],
   "source": [
    "import pandas as pd\n",
    "import numpy as np\n",
    "import matplotlib.pyplot as plt"
   ]
  },
  {
   "cell_type": "code",
   "execution_count": 2,
   "metadata": {},
   "outputs": [
    {
     "name": "stdout",
     "output_type": "stream",
     "text": [
      "<class 'pandas.core.frame.DataFrame'>\n",
      "RangeIndex: 22167 entries, 0 to 22166\n",
      "Data columns (total 36 columns):\n",
      " #   Column                  Non-Null Count  Dtype  \n",
      "---  ------                  --------------  -----  \n",
      " 0   Event.ID                21121 non-null  object \n",
      " 1   Investigation.Type      22167 non-null  object \n",
      " 2   Accident.Number         22167 non-null  object \n",
      " 3   Event.Date              22166 non-null  object \n",
      " 4   Location                22166 non-null  object \n",
      " 5   Country                 22105 non-null  object \n",
      " 6   Latitude                18992 non-null  object \n",
      " 7   Longitude               17939 non-null  object \n",
      " 8   Airport.Code            14817 non-null  object \n",
      " 9   Airport.Name            15226 non-null  object \n",
      " 10  Injury.Severity         21040 non-null  object \n",
      " 11  Aircraft.Damage         20642 non-null  object \n",
      " 12  Aircraft.Category       21121 non-null  object \n",
      " 13  Registration.Number     21114 non-null  object \n",
      " 14  Make                    21121 non-null  object \n",
      " 15  Model                   21115 non-null  object \n",
      " 16  Amateur.Built           21121 non-null  object \n",
      " 17  Number.of.Engines       20637 non-null  float64\n",
      " 18  Engine.Type             19468 non-null  object \n",
      " 19  FAR.Description         21119 non-null  object \n",
      " 20  Schedule                1961 non-null   object \n",
      " 21  Purpose.of.Flight       19893 non-null  object \n",
      " 22  Air.Carrier             8842 non-null   object \n",
      " 23  Total.Fatal.Injuries    18536 non-null  float64\n",
      " 24  Total.Serious.Injuries  18528 non-null  float64\n",
      " 25  Total.Minor.Injuries    18814 non-null  float64\n",
      " 26  Total.Uninjured         20563 non-null  float64\n",
      " 27  Weather.Condition       20693 non-null  object \n",
      " 28  Broad.Phase.of.Flight   5773 non-null   object \n",
      " 29  Report.Status           19197 non-null  object \n",
      " 30  Publication.Date        19826 non-null  object \n",
      " 31  Year                    20075 non-null  float64\n",
      " 32  State.Code              20033 non-null  object \n",
      " 33  State.Name              20020 non-null  object \n",
      " 34  Purpose.Binned          18909 non-null  object \n",
      " 35  Num.Fatalities          20075 non-null  float64\n",
      "dtypes: float64(7), object(29)\n",
      "memory usage: 6.1+ MB\n"
     ]
    },
    {
     "name": "stderr",
     "output_type": "stream",
     "text": [
      "/Users/meghanapakala/anaconda3/envs/learn-env/lib/python3.8/site-packages/IPython/core/interactiveshell.py:3145: DtypeWarning: Columns (28) have mixed types.Specify dtype option on import or set low_memory=False.\n",
      "  has_raised = await self.run_ast_nodes(code_ast.body, cell_name,\n"
     ]
    }
   ],
   "source": [
    "df = pd.read_csv('../data/AviationData_cleaned.csv')\n",
    "df.info()"
   ]
  },
  {
   "cell_type": "code",
   "execution_count": 7,
   "metadata": {},
   "outputs": [
    {
     "data": {
      "text/plain": [
       "united states         21121\n",
       "personal                668\n",
       "instructional           166\n",
       "business                106\n",
       "positioning              12\n",
       "aerial observation        9\n",
       "small transport           7\n",
       "public                    4\n",
       "air show                  4\n",
       "recreational              4\n",
       "unknown                   4\n",
       "Name: Country, dtype: int64"
      ]
     },
     "execution_count": 7,
     "metadata": {},
     "output_type": "execute_result"
    }
   ],
   "source": [
    "df['Country'].value_counts()"
   ]
  },
  {
   "cell_type": "code",
   "execution_count": null,
   "metadata": {},
   "outputs": [],
   "source": [
    "# Regions are based off of those at\n",
    "# http://nationalgeographic.org/maps/united-states-regions/\n",
    "# Includes District of Columbia as a state\n",
    "\n",
    "regions_to_states = {\n",
    "    'South': ['West Virginia', 'District of Columbia', 'Maryland', 'Virginia',\n",
    "              'Kentucky', 'Tennessee', 'North Carolina', 'Mississippi',\n",
    "              'Arkansas', 'Louisiana', 'Alabama', 'Georgia', 'South Carolina',\n",
    "              'Florida', 'Delaware'],\n",
    "    'Southwest': ['Arizona', 'New Mexico', 'Oklahoma', 'Texas'],\n",
    "    'West': ['Washington', 'Oregon', 'California', 'Nevada', 'Idaho', 'Montana',\n",
    "             'Wyoming', 'Utah', 'Colorado', 'Alaska', 'Hawaii'],\n",
    "    'Midwest': ['North Dakota', 'South Dakota', 'Nebraska', 'Kansas', 'Minnesota',\n",
    "                'Iowa', 'Missouri', 'Wisconsin', 'Illinois', 'Michigan', 'Indiana',\n",
    "                'Ohio'],\n",
    "    'Northeast': ['Maine', 'Vermont', 'New York', 'New Hampshire', 'Massachusetts',\n",
    "                  'Rhode Island', 'Connecticut', 'New Jersey', 'Pennsylvania']\n",
    "}\n",
    "\n",
    "states_to_regions = {\n",
    "    'Washington': 'West', 'Oregon': 'West', 'California': 'West', 'Nevada': 'West',\n",
    "    'Idaho': 'West', 'Montana': 'West', 'Wyoming': 'West', 'Utah': 'West',\n",
    "    'Colorado': 'West', 'Alaska': 'West', 'Hawaii': 'West', 'Maine': 'Northeast',\n",
    "    'Vermont': 'Northeast', 'New York': 'Northeast', 'New Hampshire': 'Northeast',\n",
    "    'Massachusetts': 'Northeast', 'Rhode Island': 'Northeast', 'Connecticut': 'Northeast',\n",
    "    'New Jersey': 'Northeast', 'Pennsylvania': 'Northeast', 'North Dakota': 'Midwest',\n",
    "    'South Dakota': 'Midwest', 'Nebraska': 'Midwest', 'Kansas': 'Midwest',\n",
    "    'Minnesota': 'Midwest', 'Iowa': 'Midwest', 'Missouri': 'Midwest', 'Wisconsin': 'Midwest',\n",
    "    'Illinois': 'Midwest', 'Michigan': 'Midwest', 'Indiana': 'Midwest', 'Ohio': 'Midwest',\n",
    "    'West Virginia': 'South', 'District of Columbia': 'South', 'Maryland': 'South',\n",
    "    'Virginia': 'South', 'Kentucky': 'South', 'Tennessee': 'South', 'North Carolina': 'South',\n",
    "    'Mississippi': 'South', 'Arkansas': 'South', 'Louisiana': 'South', 'Alabama': 'South',\n",
    "    'Georgia': 'South', 'South Carolina': 'South', 'Florida': 'South', 'Delaware': 'South',\n",
    "    'Arizona': 'Southwest', 'New Mexico': 'Southwest', 'Oklahoma': 'Southwest',\n",
    "    'Texas': 'Southwest'}"
   ]
  }
 ],
 "metadata": {
  "kernelspec": {
   "display_name": "learn-env",
   "language": "python",
   "name": "python3"
  },
  "language_info": {
   "codemirror_mode": {
    "name": "ipython",
    "version": 3
   },
   "file_extension": ".py",
   "mimetype": "text/x-python",
   "name": "python",
   "nbconvert_exporter": "python",
   "pygments_lexer": "ipython3",
   "version": "3.8.5"
  }
 },
 "nbformat": 4,
 "nbformat_minor": 2
}
