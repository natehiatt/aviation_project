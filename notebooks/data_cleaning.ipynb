{
 "cells": [
  {
   "cell_type": "code",
   "execution_count": 1,
   "metadata": {},
   "outputs": [],
   "source": [
    "import pandas as pd\n",
    "import numpy as np\n",
    "import matplotlib.pyplot as plt"
   ]
  },
  {
   "cell_type": "code",
   "execution_count": 8,
   "metadata": {},
   "outputs": [
    {
     "name": "stderr",
     "output_type": "stream",
     "text": [
      "c:\\Users\\nateh\\anaconda3\\envs\\learn-env\\lib\\site-packages\\IPython\\core\\interactiveshell.py:3145: DtypeWarning: Columns (6,7,28) have mixed types.Specify dtype option on import or set low_memory=False.\n",
      "  has_raised = await self.run_ast_nodes(code_ast.body, cell_name,\n"
     ]
    },
    {
     "name": "stdout",
     "output_type": "stream",
     "text": [
      "<class 'pandas.core.frame.DataFrame'>\n",
      "Int64Index: 24417 entries, 5 to 88886\n",
      "Data columns (total 32 columns):\n",
      " #   Column                  Non-Null Count  Dtype         \n",
      "---  ------                  --------------  -----         \n",
      " 0   Event.Id                24417 non-null  object        \n",
      " 1   Investigation.Type      24417 non-null  object        \n",
      " 2   Accident.Number         24417 non-null  object        \n",
      " 3   Event.Date              24417 non-null  datetime64[ns]\n",
      " 4   Location                24411 non-null  object        \n",
      " 5   Country                 24410 non-null  object        \n",
      " 6   Latitude                19171 non-null  object        \n",
      " 7   Longitude               19165 non-null  object        \n",
      " 8   Airport.Code            15574 non-null  object        \n",
      " 9   Airport.Name            16012 non-null  object        \n",
      " 10  Injury.Severity         23604 non-null  object        \n",
      " 11  Aircraft.damage         23147 non-null  object        \n",
      " 12  Aircraft.Category       24417 non-null  object        \n",
      " 13  Registration.Number     24214 non-null  object        \n",
      " 14  Make                    24414 non-null  object        \n",
      " 15  Model                   24399 non-null  object        \n",
      " 16  Amateur.Built           24417 non-null  object        \n",
      " 17  Number.of.Engines       21866 non-null  float64       \n",
      " 18  Engine.Type             20461 non-null  object        \n",
      " 19  FAR.Description         23937 non-null  object        \n",
      " 20  Schedule                2936 non-null   object        \n",
      " 21  Purpose.of.flight       20734 non-null  object        \n",
      " 22  Air.carrier             10356 non-null  object        \n",
      " 23  Total.Fatal.Injuries    21651 non-null  float64       \n",
      " 24  Total.Serious.Injuries  21571 non-null  float64       \n",
      " 25  Total.Minor.Injuries    21855 non-null  float64       \n",
      " 26  Total.Uninjured         23699 non-null  float64       \n",
      " 27  Weather.Condition       21438 non-null  object        \n",
      " 28  Broad.phase.of.flight   5796 non-null   object        \n",
      " 29  Report.Status           19755 non-null  object        \n",
      " 30  Publication.Date        23460 non-null  object        \n",
      " 31  Year                    24417 non-null  int64         \n",
      "dtypes: datetime64[ns](1), float64(5), int64(1), object(25)\n",
      "memory usage: 6.1+ MB\n"
     ]
    }
   ],
   "source": [
    "df = pd.read_csv('../data/AviationData.csv', encoding='latin-1')\n",
    "\n",
    "df['Event.Date'] = pd.to_datetime(df['Event.Date'])\n",
    "#Creating a column for the year\n",
    "df['Year'] = df['Event.Date'].dt.year\n",
    "#Making everything in the df lowercase so we can get more accurate counts.\n",
    "df = df.applymap(lambda x: x.lower() if type(x) == str else x)\n",
    "# Filtering out 'Amateur.Built' aircraft\n",
    "df = df[df['Amateur.Built'] == 'no']\n",
    "# And only keep 'airplane' from the 'Aircraft.Category' column\n",
    "df = df[df['Aircraft.Category'] == 'airplane']\n",
    "df.info()"
   ]
  },
  {
   "cell_type": "code",
   "execution_count": 9,
   "metadata": {},
   "outputs": [
    {
     "data": {
      "text/plain": [
       "part 91                     18502\n",
       "nusn                         1122\n",
       "part 137                     1102\n",
       "part 121                      814\n",
       "nusc                          804\n",
       "part 135                      773\n",
       "part 129                      280\n",
       "unk                           228\n",
       "public                        138\n",
       "non-u.s., non-commercial       72\n",
       "non-u.s., commercial           67\n",
       "unknown                        18\n",
       "part 125                       10\n",
       "armf                            4\n",
       "part 133                        2\n",
       "part 107                        1\n",
       "Name: FAR.Description, dtype: int64"
      ]
     },
     "execution_count": 9,
     "metadata": {},
     "output_type": "execute_result"
    }
   ],
   "source": [
    "# Cleaning up the FAR.Description column using a .replace() \n",
    "# See here for more info on FAR: \n",
    "# https://pilotinstitute.com/part-91-vs-121-vs-135/\n",
    "\n",
    "df['FAR.Description'] = df['FAR.Description'].replace({\n",
    "    '091': 'part 91',\n",
    "    'part 91: general aviation': 'part 91',\n",
    "    '137': 'part 137',\n",
    "    '135': 'part 135',\n",
    "    '121': 'part 121',\n",
    "    'part 137: agricultural': 'part 137',\n",
    "    'part 135: air taxi & commuter': 'part 135',\n",
    "    '129': 'part 129',\n",
    "    'part 121: air carrier': 'part 121',\n",
    "    '133': 'part 133',\n",
    "    'part 129: foreign': 'part 129',\n",
    "    'part 133: rotorcraft external load': 'part 133',\n",
    "    'part 133: rotorcraft ext. load': 'part 133',\n",
    "    '125' : 'part 125',\n",
    "    'part 125: 20+ pax,6000+ lbs': 'part 125',\n",
    "    '107': 'part 107',\n",
    "    '103': 'part 103',\n",
    "    '437': 'part 437',\n",
    "    'part91f': 'part 91',\n",
    "    'part 91 subpart f': 'part 91',\n",
    "    'part 91f: special flt ops.': 'part 91',\n",
    "    'part 91 subpart k: fractional': 'part 91',\n",
    "    '091k': 'part 91',\n",
    "    'pubu': 'public',\n",
    "    'public use': 'public',\n",
    "    'public aircraft': 'public',\n",
    "    'armed forces': 'armf',\n",
    "}\n",
    ")\n",
    "\n",
    "df['FAR.Description'].value_counts()"
   ]
  },
  {
   "cell_type": "code",
   "execution_count": 10,
   "metadata": {},
   "outputs": [
    {
     "data": {
      "text/plain": [
       "personal              13377\n",
       "instructional          3245\n",
       "business               2283\n",
       "unknown                 839\n",
       "positioning             350\n",
       "small transport         311\n",
       "aerial observation      171\n",
       "public                  150\n",
       "external load             1\n",
       "Name: purpose_binned, dtype: int64"
      ]
     },
     "execution_count": 10,
     "metadata": {},
     "output_type": "execute_result"
    }
   ],
   "source": [
    "#Now grouping the 'Purpose.of.flight' category into more general categories\n",
    "\n",
    "df['purpose_binned'] = df['Purpose.of.flight'].replace(['public aircraft', 'public aircraft - federal', 'public aircraft - state', 'public aircraft - local', 'public aircraft - u.s. govt.'], 'public')\n",
    "# Grouping 'aerial application', 'business', 'other work use', 'banner tow', 'skydiving', 'glider tow', 'air drop' into 'business'\n",
    "df['purpose_binned'] = df['purpose_binned'].replace(['aerial application', 'business', 'other work use', 'banner tow', 'skydiving', 'glider tow', 'air drop'], 'business')\n",
    "# Grouping 'executive/corporate', 'ferry' into 'small transport'.\n",
    "df['purpose_binned'] = df['purpose_binned'].replace(['executive/corporate', 'ferry'], 'small transport')\n",
    "# Adding more into the public category\n",
    "df['purpose_binned'] = df['purpose_binned'].replace(['pubs', 'public', 'publ', 'firefighting'], 'public')\n",
    "# Adding 'flight test' to 'instructional\n",
    "df['purpose_binned'] = df['purpose_binned'].replace(['flight test'], 'instructional')\n",
    "# Grouping air show categories\n",
    "df['purpose_binned'] = df['purpose_binned'].replace(['air race show', 'air race/show', 'asho', 'air show'])\n",
    "\n",
    "df['purpose_binned'].value_counts()"
   ]
  }
 ],
 "metadata": {
  "kernelspec": {
   "display_name": "learn-env",
   "language": "python",
   "name": "python3"
  },
  "language_info": {
   "codemirror_mode": {
    "name": "ipython",
    "version": 3
   },
   "file_extension": ".py",
   "mimetype": "text/x-python",
   "name": "python",
   "nbconvert_exporter": "python",
   "pygments_lexer": "ipython3",
   "version": "3.8.5"
  }
 },
 "nbformat": 4,
 "nbformat_minor": 2
}
