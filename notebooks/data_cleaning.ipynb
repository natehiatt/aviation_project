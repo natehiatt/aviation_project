{
 "cells": [
  {
   "cell_type": "code",
   "execution_count": null,
   "metadata": {},
   "outputs": [],
   "source": [
    "import pandas as pd\n",
    "import numpy as np\n",
    "import matplotlib.pyplot as plt"
   ]
  },
  {
   "cell_type": "code",
   "execution_count": null,
   "metadata": {},
   "outputs": [],
   "source": [
    "# Import data\n",
    "df = pd.read_csv('../data/AviationData.csv', encoding='latin-1')\n",
    "state_codes = pd.read_csv('../data/USState_Codes.csv')"
   ]
  },
  {
   "cell_type": "markdown",
   "metadata": {},
   "source": [
    "### Initial Data Cleaning"
   ]
  },
  {
   "cell_type": "code",
   "execution_count": null,
   "metadata": {},
   "outputs": [],
   "source": [
    "# Change the date column to a datetime object\n",
    "df['Event.Date'] = pd.to_datetime(df['Event.Date'])\n",
    "# Creating a column for the year and insert next to Event.Date\n",
    "df['Year'] = df['Event.Date'].dt.year\n",
    "df.insert(4, 'Year', df.pop('Year'))\n",
    "\n",
    "# Make everything in the df lowercase so we can get more accurate counts\n",
    "df = df.applymap(lambda x: x.lower() if type(x) == str else x)\n",
    "# Renaming columns in titlecase (aesthetic purposes only)\n",
    "df = df.rename(columns={'Event.Id':'Event.ID','Aircraft.damage':'Aircraft.Damage','Purpose.of.flight':'Purpose.of.Flight','Air.carrier':'Air.Carrier','Broad.phase.of.flight':'Broad.Phase.of.Flight'})\n",
    "\n",
    "df.info()"
   ]
  },
  {
   "cell_type": "markdown",
   "metadata": {},
   "source": [
    "### Geographic Filtering"
   ]
  },
  {
   "cell_type": "code",
   "execution_count": null,
   "metadata": {},
   "outputs": [],
   "source": [
    "# Filter to include only US events and remove 'Country' column\n",
    "df = df[df['Country'] == 'united states']\n",
    "df = df.drop(columns=['Country'])"
   ]
  },
  {
   "cell_type": "code",
   "execution_count": null,
   "metadata": {},
   "outputs": [],
   "source": [
    "# Create new column 'State.Code' pulling info from 'Location'\n",
    "df['State.Code'] = df['Location'].str.split(',').str[-1].str.strip().str.upper()\n",
    "df = df.dropna(subset=['State.Code'])\n",
    "\n",
    "# Create new column 'State.Names' merging info from state_codes df\n",
    "df = pd.merge(df, state_codes, how='left', left_on='State.Code', right_on='Abbreviation')\n",
    "df = df.drop(['Abbreviation'], 1)\n",
    "df = df.rename(columns={'US_State':'State.Name'})\n",
    "df = df.dropna(subset=['State.Name'])\n",
    "\n",
    "# Move both columns next to 'Location'\n",
    "df.insert(6, 'State.Code', df.pop('State.Code'))\n",
    "df.insert(7, 'State.Name', df.pop('State.Name'))"
   ]
  },
  {
   "cell_type": "code",
   "execution_count": null,
   "metadata": {},
   "outputs": [],
   "source": [
    "# Map states to regions based off data from http://nationalgeographic.org/maps/united-states-regions/\n",
    "# DC is categorized as a state\n",
    "# Atlantic and Pacific categorized as 'Ocean'\n",
    "# Guam, PR, VI, Gulf of Mexico categorized as 'Other Territory'\n",
    "\n",
    "states_to_regions = {\n",
    "    'Washington': 'West', 'Oregon': 'West', 'California': 'West', 'Nevada': 'West',\n",
    "    'Idaho': 'West', 'Montana': 'West', 'Wyoming': 'West', 'Utah': 'West',\n",
    "    'Colorado': 'West', 'Alaska': 'West', 'Hawaii': 'West', 'Maine': 'Northeast',\n",
    "    'Vermont': 'Northeast', 'New York': 'Northeast', 'New Hampshire': 'Northeast',\n",
    "    'Massachusetts': 'Northeast', 'Rhode Island': 'Northeast', 'Connecticut': 'Northeast',\n",
    "    'New Jersey': 'Northeast', 'Pennsylvania': 'Northeast', 'North Dakota': 'Midwest',\n",
    "    'South Dakota': 'Midwest', 'Nebraska': 'Midwest', 'Kansas': 'Midwest',\n",
    "    'Minnesota': 'Midwest', 'Iowa': 'Midwest', 'Missouri': 'Midwest', 'Wisconsin': 'Midwest',\n",
    "    'Illinois': 'Midwest', 'Michigan': 'Midwest', 'Indiana': 'Midwest', 'Ohio': 'Midwest',\n",
    "    'West Virginia': 'South', 'Maryland': 'South', 'Virginia': 'South', 'Kentucky': 'South', \n",
    "    'Tennessee': 'South', 'North Carolina': 'South', 'Mississippi': 'South', 'Arkansas': 'South', \n",
    "    'Louisiana': 'South', 'Alabama': 'South', 'Georgia': 'South', 'South Carolina': 'South', \n",
    "    'Florida': 'South', 'Delaware': 'South', 'Arizona': 'Southwest', 'New Mexico': 'Southwest', \n",
    "    'Oklahoma': 'Southwest', 'Texas': 'Southwest', 'Washington_DC': 'South', \n",
    "    'Guam': 'Other Territory', 'Puerto Rico': 'Other Territory', 'Virgin Islands': 'Other Territory',\n",
    "     'Gulf of mexico': 'Other Territory', 'Atlantic ocean': 'Ocean', 'Pacific ocean': 'Ocean' }\n",
    "\n",
    "df['Region'] = df['State.Name'].map(states_to_regions)\n",
    "df.insert(8, 'Region', df.pop('Region'))\n",
    "df['Region'].value_counts()"
   ]
  },
  {
   "cell_type": "markdown",
   "metadata": {},
   "source": [
    "### Aircraft Type"
   ]
  },
  {
   "cell_type": "code",
   "execution_count": null,
   "metadata": {},
   "outputs": [],
   "source": [
    "# Filter out 'Amateur.Built' aircraft and remove column\n",
    "df = df[df['Amateur.Built'] == 'no']\n",
    "df = df.drop(columns=['Amateur.Built'])"
   ]
  },
  {
   "cell_type": "code",
   "execution_count": null,
   "metadata": {},
   "outputs": [],
   "source": [
    "# One interesting thing to note here is the difference in the number of events per year\n",
    "# Here is the original data *before* we filter out non-airplane events\n",
    "\n",
    "df['Year'].value_counts().sort_index().plot(kind='bar', figsize=(15, 5))"
   ]
  },
  {
   "cell_type": "code",
   "execution_count": null,
   "metadata": {},
   "outputs": [],
   "source": [
    "# We can see that the airplane-related incidents and the non-airplane-related incidents are mirror images of each other\n",
    "\n",
    "df_notplanes = df[df['Aircraft.Category'] != 'airplane']\n",
    "df_notplanes['Year'].value_counts().sort_index().plot(kind='bar', figsize=(15, 5))"
   ]
  },
  {
   "cell_type": "code",
   "execution_count": null,
   "metadata": {},
   "outputs": [],
   "source": [
    "# Filter to include only 'airplane' events and remove 'Aircraft.Category' column\n",
    "df = df[df['Aircraft.Category'] == 'airplane']\n",
    "df = df.drop(columns=['Aircraft.Category'])\n",
    "\n",
    "# Regraph after filtering\n",
    "df['Year'].value_counts().sort_index().plot(kind='bar', figsize=(15, 5))"
   ]
  },
  {
   "cell_type": "markdown",
   "metadata": {},
   "source": [
    "### Time Frame"
   ]
  },
  {
   "cell_type": "code",
   "execution_count": null,
   "metadata": {},
   "outputs": [],
   "source": [
    "# Given the above data and knowing that technology has advanced exponentially in the past two decades\n",
    "# we decided to conduct our analysis on just the past 15 years of data- regulatary requirements may also have been updated \n",
    "# df = df[df['Year'] > 2007]"
   ]
  },
  {
   "cell_type": "markdown",
   "metadata": {},
   "source": [
    "### FAR Codes & Purpose of Flight"
   ]
  },
  {
   "cell_type": "code",
   "execution_count": null,
   "metadata": {},
   "outputs": [],
   "source": [
    "df['FAR.Description'].value_counts()"
   ]
  },
  {
   "cell_type": "code",
   "execution_count": null,
   "metadata": {},
   "outputs": [],
   "source": [
    "# Cleaning up the FAR.Description column using .replace() \n",
    "# See here for more info on FAR: \n",
    "# https://pilotinstitute.com/part-91-vs-121-vs-135/\n",
    "\n",
    "# Part 91 - general aviation\n",
    "df['FAR.Description'] = df['FAR.Description'].replace(['091','part 91: general aviation','091k','part91f','part 91 subpart f','part 91f: special flt ops.','part 91 subpart k: fractional'], 'part 91')\n",
    "\n",
    "# Part 121 - scheduled commercial (airlines, cargo)\n",
    "df['FAR.Description'] = df['FAR.Description'].replace(['121','part 121: air carrier'], 'part 121')\n",
    "\n",
    "# Part 135 - non-scheduled commercial (private jet, air taxi)\n",
    "df['FAR.Description'] = df['FAR.Description'].replace(['135','part 135: air taxi & commuter'], 'part 135')\n",
    "\n",
    "# Part 137 - agricultural \n",
    "df['FAR.Description'] = df['FAR.Description'].replace(['137','part 137: agricultural'], 'part 137')\n",
    "\n",
    "# Part 129 - foreign air carriers\n",
    "df['FAR.Description'] = df['FAR.Description'].replace(['129','part 129: foreign'], 'part 129')\n",
    "\n",
    "# NUSC - non-US commercial\n",
    "# NUSN - non-US non-commercial\n",
    "df['FAR.Description'] = df['FAR.Description'].replace(['nusc','nusn'], 'non-US')\n",
    "\n",
    "# Part 125 - 20+ passengers\n",
    "df['FAR.Description'] = df['FAR.Description'].replace(['125','part 125: 20+ pax,6000+ lbs'], 'part 125')\n",
    "\n",
    "# Part 133 - helicopters\n",
    "df['FAR.Description'] = df['FAR.Description'].replace(['133','part 133: rotorcraft external load','part 133: rotorcraft ext. load'], 'part 133')\n",
    "\n",
    "# Public\n",
    "df['FAR.Description'] = df['FAR.Description'].replace(['pubu','public use','public aircraft'], 'public')\n",
    "\n",
    "# Unknown\n",
    "df['FAR.Description'] = df['FAR.Description'].replace(['unk'], 'unknown')\n",
    "\n",
    "# Armed Forces\n",
    "df['FAR.Description'] = df['FAR.Description'].replace(['armf'], 'armed forces')\n",
    "\n",
    "df['FAR.Description'].value_counts()"
   ]
  },
  {
   "cell_type": "code",
   "execution_count": null,
   "metadata": {},
   "outputs": [],
   "source": [
    "df['Purpose.of.Flight'].value_counts()"
   ]
  },
  {
   "cell_type": "code",
   "execution_count": null,
   "metadata": {},
   "outputs": [],
   "source": [
    "# New column 'Purpose.Binned' to group 'Purpose.of.Flight' into more general categories\n",
    "\n",
    "# New category 'public - govt' to include 'public aircraft - federal', 'public aircraft - state', 'public aircraft - local', 'public aircraft - u.s. govt.', 'pubs', 'firefighting' \n",
    "df['Purpose.Binned'] = df['Purpose.of.Flight'].replace(['public aircraft - federal', 'public aircraft - state', 'pubs', 'public aircraft - local', 'publ', 'public aircraft - u.s. govt.','firefighting'], 'public - govt')\n",
    "\n",
    "# New category 'public transport' to include 'public aircraft',\n",
    "df['Purpose.Binned'] = df['Purpose.Binned'].replace(['public aircraft'], 'public transport')\n",
    "\n",
    "# New category 'business' to include 'business', 'other work use', 'banner tow', 'air drop'\n",
    "df['Purpose.Binned'] = df['Purpose.Binned'].replace(['business', 'other work use', 'banner tow', 'air drop'], 'business')\n",
    "\n",
    "# New category 'recreational' to include 'skydiving', 'glider tow'\n",
    "df['Purpose.Binned'] = df['Purpose.Binned'].replace(['skydiving', 'glider tow'], 'recreational')\n",
    "\n",
    "# New category 'private transport' to include 'executive/corporate', 'ferry'\n",
    "df['Purpose.Binned'] = df['Purpose.Binned'].replace(['executive/corporate', 'ferry'], 'private transport')\n",
    "\n",
    "# New category 'air show' to include 'air race show', 'air race/show', 'asho'\n",
    "df['Purpose.Binned'] = df['Purpose.Binned'].replace(['air race show', 'air race/show', 'asho'], 'air show')\n",
    "\n",
    "df.insert(23, 'Purpose.Binned', df.pop('Purpose.Binned'))\n",
    "df['Purpose.Binned'].value_counts()"
   ]
  },
  {
   "cell_type": "markdown",
   "metadata": {},
   "source": [
    "### Filtering the 'Make' series\n"
   ]
  },
  {
   "cell_type": "code",
   "execution_count": null,
   "metadata": {},
   "outputs": [],
   "source": [
    "# Checking out the raw 'Make' values\n",
    "df['Make'].value_counts()"
   ]
  },
  {
   "cell_type": "code",
   "execution_count": null,
   "metadata": {},
   "outputs": [],
   "source": [
    "# Make a list of all the entries that have \"cessna\" in them and return their strings in a list\n",
    "cessna_list = df[df['Make'].str.contains('cessna')]['Make'].unique().tolist()\n",
    "\n",
    "#Do the same with the other big makes\n",
    "grumman_list = df[df['Make'].str.contains('grumman')]['Make'].unique().tolist()\n",
    "dehavilland_list = df[df['Make'].str.contains('havilland')]['Make'].unique().tolist()\n",
    "cirrus_list = df[df['Make'].str.contains('cirrus')]['Make'].unique().tolist()\n",
    "piper_list = df[df['Make'].str.contains('piper')]['Make'].unique().tolist()\n",
    "boeing_list = df[df['Make'].str.contains('boeing')]['Make'].unique().tolist()\n",
    "mooney_list = df[df['Make'].str.contains('mooney')]['Make'].unique().tolist()\n",
    "airtractor_list = df[df['Make'].str.contains('air tractor')]['Make'].unique().tolist()\n",
    "\n",
    "print(cessna_list)\n",
    "print(grumman_list)\n",
    "print(dehavilland_list)\n",
    "print(cirrus_list)\n",
    "print(piper_list)\n",
    "print(boeing_list)\n",
    "print(mooney_list)\n",
    "print(airtractor_list)"
   ]
  },
  {
   "cell_type": "code",
   "execution_count": null,
   "metadata": {},
   "outputs": [],
   "source": [
    "df['Make'] = df['Make'].replace(cessna_list, 'cessna')\n",
    "df['Make'] = df['Make'].replace(grumman_list, 'grumman')\n",
    "df['Make'] = df['Make'].replace(dehavilland_list, 'dehavilland')\n",
    "df['Make'] = df['Make'].replace(cirrus_list, 'cirrus')\n",
    "df['Make'] = df['Make'].replace(piper_list, 'piper')\n",
    "df['Make'] = df['Make'].replace(mooney_list, 'mooney')\n",
    "df['Make'] = df['Make'].replace(airtractor_list, 'airtractor')\n",
    "\n",
    "# And we can now see the totals, with slightly different numbers than before.\n",
    "df['Make'].value_counts()"
   ]
  },
  {
   "cell_type": "code",
   "execution_count": null,
   "metadata": {},
   "outputs": [],
   "source": [
    "# Making a new df that only accepts the top 25 makes:\n",
    "top_makes = df['Make'].value_counts().head(25).index.tolist()\n",
    "top_makes_df = df[df['Make'].isin(top_makes)].copy()\n",
    "top_makes_df['Make'].value_counts()"
   ]
  },
  {
   "cell_type": "markdown",
   "metadata": {},
   "source": [
    "### Airports"
   ]
  },
  {
   "cell_type": "code",
   "execution_count": null,
   "metadata": {},
   "outputs": [],
   "source": [
    "# Clean airport names\n",
    "\n",
    "df['Airport.Name'] = df['Airport.Name'].replace(['private airstrip', 'private strip', 'pvt'], 'private')\n",
    "df['Airport.Name'].value_counts()"
   ]
  },
  {
   "cell_type": "markdown",
   "metadata": {},
   "source": [
    "### Weather"
   ]
  },
  {
   "cell_type": "code",
   "execution_count": null,
   "metadata": {},
   "outputs": [],
   "source": [
    "# Clean 'Weather.Condition'\n",
    "\n",
    "df['Weather.Condition'] = df['Weather.Condition'].str.upper()\n",
    "df['Weather.Condition'].value_counts()\n",
    "\n",
    "# VMC - Visual Meteorological Conditions - generally clear and good visibility; pilots can navigate and operate aircraft by visual reference to the ground\n",
    "# IMC - Instrument Meteorological Conditions - reduced visibility due to factors like fog, rain, or low clouds; pilots may need to rely on instruments for navigation and control\n",
    "# UNK - Unknown"
   ]
  },
  {
   "cell_type": "markdown",
   "metadata": {},
   "source": [
    "### Injury Severity"
   ]
  },
  {
   "cell_type": "code",
   "execution_count": null,
   "metadata": {},
   "outputs": [],
   "source": [
    "# Looking at the 'Injury.Severity' column\n",
    "# We see that it tells us how many people died in a given incident\n",
    "df['Injury.Severity'].value_counts().head(20)"
   ]
  },
  {
   "cell_type": "code",
   "execution_count": null,
   "metadata": {},
   "outputs": [],
   "source": [
    "# Split number from Fatal(#) to count number of fatalities\n",
    "# Create a new column tracking the number of these fatalities\n",
    "df['Num.Fatalities'] = df['Injury.Severity'].str.split('(').str[-1]\n",
    "df['Num.Fatalities'] = df['Num.Fatalities'].str.split(')').str[0]\n",
    "df['Num.Fatalities'] = pd.to_numeric(df['Num.Fatalities'], errors='coerce').fillna(0).astype(int)\n",
    "df.insert(14, 'Num.Fatalities', df.pop('Num.Fatalities'))\n",
    "df['Num.Fatalities'].value_counts()"
   ]
  },
  {
   "cell_type": "code",
   "execution_count": null,
   "metadata": {},
   "outputs": [],
   "source": [
    "# Update labeling in 'Injury.Severity' column, since we now have a different column that tracks total number of fatalities\n",
    "\n",
    "df['Injury.Severity'] = df['Injury.Severity'].str.split('(').str[0]\n",
    "df['Injury.Severity'].value_counts()"
   ]
  },
  {
   "cell_type": "code",
   "execution_count": null,
   "metadata": {},
   "outputs": [],
   "source": [
    "# Move other injury columns next to Injury.Severity\n",
    "df.insert(15, 'Total.Fatal.Injuries', df.pop('Total.Fatal.Injuries'))\n",
    "df.insert(16, 'Total.Serious.Injuries', df.pop('Total.Serious.Injuries'))\n",
    "df.insert(17, 'Total.Minor.Injuries', df.pop('Total.Minor.Injuries'))\n",
    "df.insert(18, 'Total.Uninjured', df.pop('Total.Uninjured'))"
   ]
  },
  {
   "cell_type": "markdown",
   "metadata": {},
   "source": [
    "### Damage Severity Score\n",
    "\n",
    "Making a 'DS.Score' column that takes the 'Aircraft.damage' column and reassigns each category a number:\n",
    "\n",
    "    - 'destroyed' -> 2\n",
    "    - 'substantial' -> 1\n",
    "    - 'minor' -> 0\n",
    "    \n",
    "For the time being, 'unknown' is left as such."
   ]
  },
  {
   "cell_type": "code",
   "execution_count": null,
   "metadata": {},
   "outputs": [],
   "source": [
    "# Make a DS.Score based on the 'Aircraft.Damage' column\n",
    "\n",
    "df['DS.Score'] = df['Aircraft.Damage'].replace({\n",
    "    'destroyed': 2,\n",
    "    'substantial': 1,\n",
    "    'minor': 0,\n",
    "})\n",
    "df['DS.Score'].value_counts()\n",
    "\n",
    "df.insert(20, 'DS.Score', df.pop('DS.Score'))"
   ]
  },
  {
   "cell_type": "markdown",
   "metadata": {},
   "source": [
    "# Save cleaned .csv"
   ]
  },
  {
   "cell_type": "code",
   "execution_count": null,
   "metadata": {},
   "outputs": [],
   "source": [
    "df.info()"
   ]
  },
  {
   "cell_type": "code",
   "execution_count": null,
   "metadata": {},
   "outputs": [],
   "source": [
    "# Save cleaned df to a new csv file\n",
    "# df.to_csv('../data/AviationData_cleaned.csv', index=False)"
   ]
  }
 ],
 "metadata": {
  "kernelspec": {
   "display_name": "learn-env",
   "language": "python",
   "name": "python3"
  },
  "language_info": {
   "codemirror_mode": {
    "name": "ipython",
    "version": 3
   },
   "file_extension": ".py",
   "mimetype": "text/x-python",
   "name": "python",
   "nbconvert_exporter": "python",
   "pygments_lexer": "ipython3",
   "version": "3.8.5"
  }
 },
 "nbformat": 4,
 "nbformat_minor": 2
}
