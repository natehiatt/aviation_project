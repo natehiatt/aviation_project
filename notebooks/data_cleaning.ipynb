{
 "cells": [
  {
   "cell_type": "markdown",
   "metadata": {},
   "source": [
    "We're going to start off by importing our packages and reading in our data from `../data/AviationData.csv` and `../data/USState_Codes.csv`. We will eventually save our cleaned data as a separate `AviationData_cleaned.csv`, which we will then use for our analysis."
   ]
  },
  {
   "cell_type": "code",
   "execution_count": 157,
   "metadata": {},
   "outputs": [],
   "source": [
    "import pandas as pd\n",
    "import numpy as np\n",
    "import matplotlib.pyplot as plt"
   ]
  },
  {
   "cell_type": "code",
   "execution_count": 158,
   "metadata": {},
   "outputs": [
    {
     "name": "stderr",
     "output_type": "stream",
     "text": [
      "c:\\Users\\nateh\\anaconda3\\envs\\learn-env\\lib\\site-packages\\IPython\\core\\interactiveshell.py:3145: DtypeWarning: Columns (6,7,28) have mixed types.Specify dtype option on import or set low_memory=False.\n",
      "  has_raised = await self.run_ast_nodes(code_ast.body, cell_name,\n"
     ]
    }
   ],
   "source": [
    "# Import data\n",
    "df = pd.read_csv('../data/AviationData.csv', encoding='latin-1')\n",
    "state_codes = pd.read_csv('../data/USState_Codes.csv')"
   ]
  },
  {
   "cell_type": "code",
   "execution_count": 159,
   "metadata": {},
   "outputs": [
    {
     "data": {
      "text/html": [
       "<div>\n",
       "<style scoped>\n",
       "    .dataframe tbody tr th:only-of-type {\n",
       "        vertical-align: middle;\n",
       "    }\n",
       "\n",
       "    .dataframe tbody tr th {\n",
       "        vertical-align: top;\n",
       "    }\n",
       "\n",
       "    .dataframe thead th {\n",
       "        text-align: right;\n",
       "    }\n",
       "</style>\n",
       "<table border=\"1\" class=\"dataframe\">\n",
       "  <thead>\n",
       "    <tr style=\"text-align: right;\">\n",
       "      <th></th>\n",
       "      <th>Event.Id</th>\n",
       "      <th>Investigation.Type</th>\n",
       "      <th>Accident.Number</th>\n",
       "      <th>Event.Date</th>\n",
       "      <th>Location</th>\n",
       "      <th>Country</th>\n",
       "      <th>Latitude</th>\n",
       "      <th>Longitude</th>\n",
       "      <th>Airport.Code</th>\n",
       "      <th>Airport.Name</th>\n",
       "      <th>...</th>\n",
       "      <th>Purpose.of.flight</th>\n",
       "      <th>Air.carrier</th>\n",
       "      <th>Total.Fatal.Injuries</th>\n",
       "      <th>Total.Serious.Injuries</th>\n",
       "      <th>Total.Minor.Injuries</th>\n",
       "      <th>Total.Uninjured</th>\n",
       "      <th>Weather.Condition</th>\n",
       "      <th>Broad.phase.of.flight</th>\n",
       "      <th>Report.Status</th>\n",
       "      <th>Publication.Date</th>\n",
       "    </tr>\n",
       "  </thead>\n",
       "  <tbody>\n",
       "    <tr>\n",
       "      <th>0</th>\n",
       "      <td>20001218X45444</td>\n",
       "      <td>Accident</td>\n",
       "      <td>SEA87LA080</td>\n",
       "      <td>1948-10-24</td>\n",
       "      <td>MOOSE CREEK, ID</td>\n",
       "      <td>United States</td>\n",
       "      <td>NaN</td>\n",
       "      <td>NaN</td>\n",
       "      <td>NaN</td>\n",
       "      <td>NaN</td>\n",
       "      <td>...</td>\n",
       "      <td>Personal</td>\n",
       "      <td>NaN</td>\n",
       "      <td>2.0</td>\n",
       "      <td>0.0</td>\n",
       "      <td>0.0</td>\n",
       "      <td>0.0</td>\n",
       "      <td>UNK</td>\n",
       "      <td>Cruise</td>\n",
       "      <td>Probable Cause</td>\n",
       "      <td>NaN</td>\n",
       "    </tr>\n",
       "    <tr>\n",
       "      <th>1</th>\n",
       "      <td>20001218X45447</td>\n",
       "      <td>Accident</td>\n",
       "      <td>LAX94LA336</td>\n",
       "      <td>1962-07-19</td>\n",
       "      <td>BRIDGEPORT, CA</td>\n",
       "      <td>United States</td>\n",
       "      <td>NaN</td>\n",
       "      <td>NaN</td>\n",
       "      <td>NaN</td>\n",
       "      <td>NaN</td>\n",
       "      <td>...</td>\n",
       "      <td>Personal</td>\n",
       "      <td>NaN</td>\n",
       "      <td>4.0</td>\n",
       "      <td>0.0</td>\n",
       "      <td>0.0</td>\n",
       "      <td>0.0</td>\n",
       "      <td>UNK</td>\n",
       "      <td>Unknown</td>\n",
       "      <td>Probable Cause</td>\n",
       "      <td>19-09-1996</td>\n",
       "    </tr>\n",
       "    <tr>\n",
       "      <th>2</th>\n",
       "      <td>20061025X01555</td>\n",
       "      <td>Accident</td>\n",
       "      <td>NYC07LA005</td>\n",
       "      <td>1974-08-30</td>\n",
       "      <td>Saltville, VA</td>\n",
       "      <td>United States</td>\n",
       "      <td>36.9222</td>\n",
       "      <td>-81.8781</td>\n",
       "      <td>NaN</td>\n",
       "      <td>NaN</td>\n",
       "      <td>...</td>\n",
       "      <td>Personal</td>\n",
       "      <td>NaN</td>\n",
       "      <td>3.0</td>\n",
       "      <td>NaN</td>\n",
       "      <td>NaN</td>\n",
       "      <td>NaN</td>\n",
       "      <td>IMC</td>\n",
       "      <td>Cruise</td>\n",
       "      <td>Probable Cause</td>\n",
       "      <td>26-02-2007</td>\n",
       "    </tr>\n",
       "    <tr>\n",
       "      <th>3</th>\n",
       "      <td>20001218X45448</td>\n",
       "      <td>Accident</td>\n",
       "      <td>LAX96LA321</td>\n",
       "      <td>1977-06-19</td>\n",
       "      <td>EUREKA, CA</td>\n",
       "      <td>United States</td>\n",
       "      <td>NaN</td>\n",
       "      <td>NaN</td>\n",
       "      <td>NaN</td>\n",
       "      <td>NaN</td>\n",
       "      <td>...</td>\n",
       "      <td>Personal</td>\n",
       "      <td>NaN</td>\n",
       "      <td>2.0</td>\n",
       "      <td>0.0</td>\n",
       "      <td>0.0</td>\n",
       "      <td>0.0</td>\n",
       "      <td>IMC</td>\n",
       "      <td>Cruise</td>\n",
       "      <td>Probable Cause</td>\n",
       "      <td>12-09-2000</td>\n",
       "    </tr>\n",
       "    <tr>\n",
       "      <th>4</th>\n",
       "      <td>20041105X01764</td>\n",
       "      <td>Accident</td>\n",
       "      <td>CHI79FA064</td>\n",
       "      <td>1979-08-02</td>\n",
       "      <td>Canton, OH</td>\n",
       "      <td>United States</td>\n",
       "      <td>NaN</td>\n",
       "      <td>NaN</td>\n",
       "      <td>NaN</td>\n",
       "      <td>NaN</td>\n",
       "      <td>...</td>\n",
       "      <td>Personal</td>\n",
       "      <td>NaN</td>\n",
       "      <td>1.0</td>\n",
       "      <td>2.0</td>\n",
       "      <td>NaN</td>\n",
       "      <td>0.0</td>\n",
       "      <td>VMC</td>\n",
       "      <td>Approach</td>\n",
       "      <td>Probable Cause</td>\n",
       "      <td>16-04-1980</td>\n",
       "    </tr>\n",
       "  </tbody>\n",
       "</table>\n",
       "<p>5 rows × 31 columns</p>\n",
       "</div>"
      ],
      "text/plain": [
       "         Event.Id Investigation.Type Accident.Number  Event.Date  \\\n",
       "0  20001218X45444           Accident      SEA87LA080  1948-10-24   \n",
       "1  20001218X45447           Accident      LAX94LA336  1962-07-19   \n",
       "2  20061025X01555           Accident      NYC07LA005  1974-08-30   \n",
       "3  20001218X45448           Accident      LAX96LA321  1977-06-19   \n",
       "4  20041105X01764           Accident      CHI79FA064  1979-08-02   \n",
       "\n",
       "          Location        Country Latitude Longitude Airport.Code  \\\n",
       "0  MOOSE CREEK, ID  United States      NaN       NaN          NaN   \n",
       "1   BRIDGEPORT, CA  United States      NaN       NaN          NaN   \n",
       "2    Saltville, VA  United States  36.9222  -81.8781          NaN   \n",
       "3       EUREKA, CA  United States      NaN       NaN          NaN   \n",
       "4       Canton, OH  United States      NaN       NaN          NaN   \n",
       "\n",
       "  Airport.Name  ... Purpose.of.flight Air.carrier Total.Fatal.Injuries  \\\n",
       "0          NaN  ...          Personal         NaN                  2.0   \n",
       "1          NaN  ...          Personal         NaN                  4.0   \n",
       "2          NaN  ...          Personal         NaN                  3.0   \n",
       "3          NaN  ...          Personal         NaN                  2.0   \n",
       "4          NaN  ...          Personal         NaN                  1.0   \n",
       "\n",
       "  Total.Serious.Injuries Total.Minor.Injuries Total.Uninjured  \\\n",
       "0                    0.0                  0.0             0.0   \n",
       "1                    0.0                  0.0             0.0   \n",
       "2                    NaN                  NaN             NaN   \n",
       "3                    0.0                  0.0             0.0   \n",
       "4                    2.0                  NaN             0.0   \n",
       "\n",
       "  Weather.Condition  Broad.phase.of.flight   Report.Status Publication.Date  \n",
       "0               UNK                 Cruise  Probable Cause              NaN  \n",
       "1               UNK                Unknown  Probable Cause       19-09-1996  \n",
       "2               IMC                 Cruise  Probable Cause       26-02-2007  \n",
       "3               IMC                 Cruise  Probable Cause       12-09-2000  \n",
       "4               VMC               Approach  Probable Cause       16-04-1980  \n",
       "\n",
       "[5 rows x 31 columns]"
      ]
     },
     "execution_count": 159,
     "metadata": {},
     "output_type": "execute_result"
    }
   ],
   "source": [
    "df.head()"
   ]
  },
  {
   "cell_type": "code",
   "execution_count": 160,
   "metadata": {},
   "outputs": [
    {
     "name": "stdout",
     "output_type": "stream",
     "text": [
      "<class 'pandas.core.frame.DataFrame'>\n",
      "RangeIndex: 88889 entries, 0 to 88888\n",
      "Data columns (total 31 columns):\n",
      " #   Column                  Non-Null Count  Dtype  \n",
      "---  ------                  --------------  -----  \n",
      " 0   Event.Id                88889 non-null  object \n",
      " 1   Investigation.Type      88889 non-null  object \n",
      " 2   Accident.Number         88889 non-null  object \n",
      " 3   Event.Date              88889 non-null  object \n",
      " 4   Location                88837 non-null  object \n",
      " 5   Country                 88663 non-null  object \n",
      " 6   Latitude                34382 non-null  object \n",
      " 7   Longitude               34373 non-null  object \n",
      " 8   Airport.Code            50249 non-null  object \n",
      " 9   Airport.Name            52790 non-null  object \n",
      " 10  Injury.Severity         87889 non-null  object \n",
      " 11  Aircraft.damage         85695 non-null  object \n",
      " 12  Aircraft.Category       32287 non-null  object \n",
      " 13  Registration.Number     87572 non-null  object \n",
      " 14  Make                    88826 non-null  object \n",
      " 15  Model                   88797 non-null  object \n",
      " 16  Amateur.Built           88787 non-null  object \n",
      " 17  Number.of.Engines       82805 non-null  float64\n",
      " 18  Engine.Type             81812 non-null  object \n",
      " 19  FAR.Description         32023 non-null  object \n",
      " 20  Schedule                12582 non-null  object \n",
      " 21  Purpose.of.flight       82697 non-null  object \n",
      " 22  Air.carrier             16648 non-null  object \n",
      " 23  Total.Fatal.Injuries    77488 non-null  float64\n",
      " 24  Total.Serious.Injuries  76379 non-null  float64\n",
      " 25  Total.Minor.Injuries    76956 non-null  float64\n",
      " 26  Total.Uninjured         82977 non-null  float64\n",
      " 27  Weather.Condition       84397 non-null  object \n",
      " 28  Broad.phase.of.flight   61724 non-null  object \n",
      " 29  Report.Status           82508 non-null  object \n",
      " 30  Publication.Date        75118 non-null  object \n",
      "dtypes: float64(5), object(26)\n",
      "memory usage: 21.0+ MB\n"
     ]
    }
   ],
   "source": [
    "df.info()\n"
   ]
  },
  {
   "cell_type": "markdown",
   "metadata": {},
   "source": [
    "### Initial Data Cleaning"
   ]
  },
  {
   "cell_type": "code",
   "execution_count": 161,
   "metadata": {},
   "outputs": [
    {
     "name": "stdout",
     "output_type": "stream",
     "text": [
      "<class 'pandas.core.frame.DataFrame'>\n",
      "RangeIndex: 88889 entries, 0 to 88888\n",
      "Data columns (total 32 columns):\n",
      " #   Column                  Non-Null Count  Dtype         \n",
      "---  ------                  --------------  -----         \n",
      " 0   Event.ID                88889 non-null  object        \n",
      " 1   Investigation.Type      88889 non-null  object        \n",
      " 2   Accident.Number         88889 non-null  object        \n",
      " 3   Event.Date              88889 non-null  datetime64[ns]\n",
      " 4   Year                    88889 non-null  int64         \n",
      " 5   Location                88837 non-null  object        \n",
      " 6   Country                 88663 non-null  object        \n",
      " 7   Latitude                34382 non-null  object        \n",
      " 8   Longitude               34373 non-null  object        \n",
      " 9   Airport.Code            50249 non-null  object        \n",
      " 10  Airport.Name            52790 non-null  object        \n",
      " 11  Injury.Severity         87889 non-null  object        \n",
      " 12  Aircraft.Damage         85695 non-null  object        \n",
      " 13  Aircraft.Category       32287 non-null  object        \n",
      " 14  Registration.Number     87572 non-null  object        \n",
      " 15  Make                    88826 non-null  object        \n",
      " 16  Model                   88797 non-null  object        \n",
      " 17  Amateur.Built           88787 non-null  object        \n",
      " 18  Number.of.Engines       82805 non-null  float64       \n",
      " 19  Engine.Type             81812 non-null  object        \n",
      " 20  FAR.Description         32023 non-null  object        \n",
      " 21  Schedule                12582 non-null  object        \n",
      " 22  Purpose.of.Flight       82697 non-null  object        \n",
      " 23  Air.Carrier             16648 non-null  object        \n",
      " 24  Total.Fatal.Injuries    77488 non-null  float64       \n",
      " 25  Total.Serious.Injuries  76379 non-null  float64       \n",
      " 26  Total.Minor.Injuries    76956 non-null  float64       \n",
      " 27  Total.Uninjured         82977 non-null  float64       \n",
      " 28  Weather.Condition       84397 non-null  object        \n",
      " 29  Broad.Phase.of.Flight   61724 non-null  object        \n",
      " 30  Report.Status           82508 non-null  object        \n",
      " 31  Publication.Date        75118 non-null  object        \n",
      "dtypes: datetime64[ns](1), float64(5), int64(1), object(25)\n",
      "memory usage: 21.7+ MB\n"
     ]
    }
   ],
   "source": [
    "# Change the date column to a datetime object\n",
    "df['Event.Date'] = pd.to_datetime(df['Event.Date'])\n",
    "# Creating a column for the year and insert next to Event.Date\n",
    "df['Year'] = df['Event.Date'].dt.year\n",
    "df.insert(4, 'Year', df.pop('Year'))\n",
    "\n",
    "# Make everything in the df lowercase so we can get more accurate counts\n",
    "df = df.applymap(lambda x: x.lower() if type(x) == str else x)\n",
    "# Renaming columns in titlecase (aesthetic purposes only)\n",
    "df = df.rename(columns={'Event.Id':'Event.ID','Aircraft.damage':'Aircraft.Damage','Purpose.of.flight':'Purpose.of.Flight','Air.carrier':'Air.Carrier','Broad.phase.of.flight':'Broad.Phase.of.Flight'})\n",
    "\n",
    "df.info()"
   ]
  },
  {
   "cell_type": "markdown",
   "metadata": {},
   "source": [
    "### Geographic Filtering"
   ]
  },
  {
   "cell_type": "code",
   "execution_count": 162,
   "metadata": {},
   "outputs": [],
   "source": [
    "# Filter to include only US events and remove 'Country' column\n",
    "df = df[df['Country'] == 'united states']\n",
    "df = df.drop(columns=['Country'])"
   ]
  },
  {
   "cell_type": "code",
   "execution_count": 163,
   "metadata": {},
   "outputs": [],
   "source": [
    "# Create new column 'State.Code' pulling info from 'Location'\n",
    "df['State.Code'] = df['Location'].str.split(',').str[-1].str.strip().str.upper()\n",
    "df = df.dropna(subset=['State.Code'])\n",
    "\n",
    "# Create new column 'State.Names' merging info from state_codes df\n",
    "df = pd.merge(df, state_codes, how='left', left_on='State.Code', right_on='Abbreviation')\n",
    "df = df.drop(['Abbreviation'], 1)\n",
    "df = df.rename(columns={'US_State':'State.Name'})\n",
    "df = df.dropna(subset=['State.Name'])\n",
    "\n",
    "# Move both columns next to 'Location'\n",
    "df.insert(6, 'State.Code', df.pop('State.Code'))\n",
    "df.insert(7, 'State.Name', df.pop('State.Name'))"
   ]
  },
  {
   "cell_type": "code",
   "execution_count": 164,
   "metadata": {},
   "outputs": [
    {
     "data": {
      "text/plain": [
       "West               27936\n",
       "South              19582\n",
       "Midwest            15469\n",
       "Southwest          11345\n",
       "Northeast           7618\n",
       "Other Territory      172\n",
       "Ocean                 31\n",
       "Name: Region, dtype: int64"
      ]
     },
     "execution_count": 164,
     "metadata": {},
     "output_type": "execute_result"
    }
   ],
   "source": [
    "# Map states to regions based off data from http://nationalgeographic.org/maps/united-states-regions/\n",
    "# DC is categorized as a state\n",
    "# Atlantic and Pacific categorized as 'Ocean'\n",
    "# Guam, PR, VI, Gulf of Mexico categorized as 'Other Territory'\n",
    "\n",
    "states_to_regions = {\n",
    "    'Washington': 'West', 'Oregon': 'West', 'California': 'West', 'Nevada': 'West',\n",
    "    'Idaho': 'West', 'Montana': 'West', 'Wyoming': 'West', 'Utah': 'West',\n",
    "    'Colorado': 'West', 'Alaska': 'West', 'Hawaii': 'West', 'Maine': 'Northeast',\n",
    "    'Vermont': 'Northeast', 'New York': 'Northeast', 'New Hampshire': 'Northeast',\n",
    "    'Massachusetts': 'Northeast', 'Rhode Island': 'Northeast', 'Connecticut': 'Northeast',\n",
    "    'New Jersey': 'Northeast', 'Pennsylvania': 'Northeast', 'North Dakota': 'Midwest',\n",
    "    'South Dakota': 'Midwest', 'Nebraska': 'Midwest', 'Kansas': 'Midwest',\n",
    "    'Minnesota': 'Midwest', 'Iowa': 'Midwest', 'Missouri': 'Midwest', 'Wisconsin': 'Midwest',\n",
    "    'Illinois': 'Midwest', 'Michigan': 'Midwest', 'Indiana': 'Midwest', 'Ohio': 'Midwest',\n",
    "    'West Virginia': 'South', 'Maryland': 'South', 'Virginia': 'South', 'Kentucky': 'South', \n",
    "    'Tennessee': 'South', 'North Carolina': 'South', 'Mississippi': 'South', 'Arkansas': 'South', \n",
    "    'Louisiana': 'South', 'Alabama': 'South', 'Georgia': 'South', 'South Carolina': 'South', \n",
    "    'Florida': 'South', 'Delaware': 'South', 'Arizona': 'Southwest', 'New Mexico': 'Southwest', \n",
    "    'Oklahoma': 'Southwest', 'Texas': 'Southwest', 'Washington_DC': 'South', \n",
    "    'Guam': 'Other Territory', 'Puerto Rico': 'Other Territory', 'Virgin Islands': 'Other Territory',\n",
    "     'Gulf of mexico': 'Other Territory', 'Atlantic ocean': 'Ocean', 'Pacific ocean': 'Ocean' }\n",
    "\n",
    "df['Region'] = df['State.Name'].map(states_to_regions)\n",
    "df.insert(8, 'Region', df.pop('Region'))\n",
    "df['Region'].value_counts()"
   ]
  },
  {
   "cell_type": "markdown",
   "metadata": {},
   "source": [
    "### Aircraft Type\n",
    "\n",
    "Since we're trying to find the safest option for a business looking to get into aviation, we're going to go ahead and exclude amateur-built planes. \n",
    "\n",
    "We're also going to filter out any non-airplanes (e.g. helicopters, gliders, and so on), but pay attention to what that does to our `Year` data -- we get some pretty funky results, for which we couldn't find explanations in regulatory changes or similar. As a result, we try not to do too much with the year-on-year data in our analysis."
   ]
  },
  {
   "cell_type": "code",
   "execution_count": 165,
   "metadata": {},
   "outputs": [],
   "source": [
    "# Filter out 'Amateur.Built' aircraft and remove column\n",
    "df = df[df['Amateur.Built'] == 'no']\n",
    "df = df.drop(columns=['Amateur.Built'])"
   ]
  },
  {
   "cell_type": "code",
   "execution_count": 166,
   "metadata": {},
   "outputs": [
    {
     "data": {
      "image/png": "[encoded data removed]",
      "text/plain": [
       "<Figure size 1080x360 with 1 Axes>"
      ]
     },
     "metadata": {
      "needs_background": "light"
     },
     "output_type": "display_data"
    }
   ],
   "source": [
    "# One interesting thing to note here is the difference in the number of events per year\n",
    "# Here is the original data *before* we filter out non-airplane events\n",
    "\n",
    "df['Year'].value_counts().sort_index().plot(kind='bar', figsize=(15, 5))\n",
    "plt.title('Number of Incidents per Year')\n",
    "plt.xlabel('Year')\n",
    "plt.ylabel('Number of Incidents');"
   ]
  },
  {
   "cell_type": "code",
   "execution_count": 167,
   "metadata": {},
   "outputs": [
    {
     "data": {
      "image/png": "[encoded data removed]",
      "text/plain": [
       "<Figure size 1080x360 with 1 Axes>"
      ]
     },
     "metadata": {
      "needs_background": "light"
     },
     "output_type": "display_data"
    }
   ],
   "source": [
    "# We can see that the airplane-related incidents and the non-airplane-related incidents are mirror images of each other\n",
    "\n",
    "df_notplanes = df[df['Aircraft.Category'] != 'airplane']\n",
    "df_notplanes['Year'].value_counts().sort_index().plot(kind='bar', figsize=(15, 5))\n",
    "plt.title('Number of Non-Airplane Incidents per Year')\n",
    "plt.xlabel('Year')\n",
    "plt.ylabel('Number of Non-Airplane Incidents');"
   ]
  },
  {
   "cell_type": "code",
   "execution_count": 168,
   "metadata": {},
   "outputs": [
    {
     "data": {
      "image/png": "[encoded data removed]",
      "text/plain": [
       "<Figure size 1080x360 with 1 Axes>"
      ]
     },
     "metadata": {
      "needs_background": "light"
     },
     "output_type": "display_data"
    }
   ],
   "source": [
    "# Filter to include only 'airplane' events and remove 'Aircraft.Category' column\n",
    "df = df[df['Aircraft.Category'] == 'airplane']\n",
    "df = df.drop(columns=['Aircraft.Category'])\n",
    "\n",
    "# Regraph after filtering\n",
    "df['Year'].value_counts().sort_index().plot(kind='bar', figsize=(15, 5))\n",
    "plt.title('Number of Airplane Incidents per Year')\n",
    "plt.xlabel('Year')\n",
    "plt.ylabel('Number of Airplane Incidents');"
   ]
  },
  {
   "cell_type": "markdown",
   "metadata": {},
   "source": [
    "### Time Frame"
   ]
  },
  {
   "cell_type": "markdown",
   "metadata": {},
   "source": [
    "Given more time, fully understanding and dealing with this yearly data would be helpful for a detailed analysis. One could start by subsetting the data by `Year >= 2007`; for the present analysis, we decided to keep all of the data."
   ]
  },
  {
   "cell_type": "markdown",
   "metadata": {},
   "source": [
    "### FAR Codes & Purpose of Flight"
   ]
  },
  {
   "cell_type": "code",
   "execution_count": 169,
   "metadata": {},
   "outputs": [
    {
     "data": {
      "text/plain": [
       "091                               13310\n",
       "part 91: general aviation          5036\n",
       "137                                 739\n",
       "135                                 519\n",
       "121                                 517\n",
       "part 137: agricultural              360\n",
       "part 135: air taxi & commuter       229\n",
       "pubu                                124\n",
       "part 121: air carrier               109\n",
       "129                                  43\n",
       "part 129: foreign                    14\n",
       "091k                                 14\n",
       "unknown                              10\n",
       "public use                            9\n",
       "nusc                                  7\n",
       "unk                                   6\n",
       "nusn                                  4\n",
       "part 125: 20+ pax,6000+ lbs           4\n",
       "125                                   4\n",
       "armf                                  2\n",
       "part 133: rotorcraft ext. load        2\n",
       "part 91f: special flt ops.            1\n",
       "part 91 subpart k: fractional         1\n",
       "public aircraft                       1\n",
       "Name: FAR.Description, dtype: int64"
      ]
     },
     "execution_count": 169,
     "metadata": {},
     "output_type": "execute_result"
    }
   ],
   "source": [
    "df['FAR.Description'].value_counts()"
   ]
  },
  {
   "cell_type": "code",
   "execution_count": 170,
   "metadata": {},
   "outputs": [
    {
     "data": {
      "text/plain": [
       "part 91         18362\n",
       "part 137         1099\n",
       "part 135          748\n",
       "part 121          626\n",
       "public            134\n",
       "part 129           57\n",
       "unknown            16\n",
       "non-US             11\n",
       "part 125            8\n",
       "armed forces        2\n",
       "part 133            2\n",
       "Name: FAR.Description, dtype: int64"
      ]
     },
     "execution_count": 170,
     "metadata": {},
     "output_type": "execute_result"
    }
   ],
   "source": [
    "# Cleaning up the FAR.Description column using .replace() \n",
    "# See here for more info on FAR: \n",
    "# https://pilotinstitute.com/part-91-vs-121-vs-135/\n",
    "\n",
    "# Part 91 - general aviation\n",
    "df['FAR.Description'] = df['FAR.Description'].replace(['091','part 91: general aviation','091k','part91f','part 91 subpart f','part 91f: special flt ops.','part 91 subpart k: fractional'], 'part 91')\n",
    "\n",
    "# Part 121 - scheduled commercial (airlines, cargo)\n",
    "df['FAR.Description'] = df['FAR.Description'].replace(['121','part 121: air carrier'], 'part 121')\n",
    "\n",
    "# Part 135 - non-scheduled commercial (private jet, air taxi)\n",
    "df['FAR.Description'] = df['FAR.Description'].replace(['135','part 135: air taxi & commuter'], 'part 135')\n",
    "\n",
    "# Part 137 - agricultural \n",
    "df['FAR.Description'] = df['FAR.Description'].replace(['137','part 137: agricultural'], 'part 137')\n",
    "\n",
    "# Part 129 - foreign air carriers\n",
    "df['FAR.Description'] = df['FAR.Description'].replace(['129','part 129: foreign'], 'part 129')\n",
    "\n",
    "# NUSC - non-US commercial\n",
    "# NUSN - non-US non-commercial\n",
    "df['FAR.Description'] = df['FAR.Description'].replace(['nusc','nusn'], 'non-US')\n",
    "\n",
    "# Part 125 - 20+ passengers\n",
    "df['FAR.Description'] = df['FAR.Description'].replace(['125','part 125: 20+ pax,6000+ lbs'], 'part 125')\n",
    "\n",
    "# Part 133 - helicopters\n",
    "df['FAR.Description'] = df['FAR.Description'].replace(['133','part 133: rotorcraft external load','part 133: rotorcraft ext. load'], 'part 133')\n",
    "\n",
    "# Public\n",
    "df['FAR.Description'] = df['FAR.Description'].replace(['pubu','public use','public aircraft'], 'public')\n",
    "\n",
    "# Unknown\n",
    "df['FAR.Description'] = df['FAR.Description'].replace(['unk'], 'unknown')\n",
    "\n",
    "# Armed Forces\n",
    "df['FAR.Description'] = df['FAR.Description'].replace(['armf'], 'armed forces')\n",
    "\n",
    "df['FAR.Description'].value_counts()"
   ]
  },
  {
   "cell_type": "code",
   "execution_count": 171,
   "metadata": {},
   "outputs": [
    {
     "data": {
      "text/plain": [
       "personal                     13026\n",
       "instructional                 3054\n",
       "aerial application            1014\n",
       "business                       722\n",
       "unknown                        550\n",
       "positioning                    336\n",
       "skydiving                      158\n",
       "aerial observation             153\n",
       "ferry                          148\n",
       "other work use                 141\n",
       "executive/corporate            137\n",
       "flight test                    114\n",
       "banner tow                      89\n",
       "public aircraft - federal       48\n",
       "air race show                   39\n",
       "public aircraft                 38\n",
       "glider tow                      34\n",
       "public aircraft - state         24\n",
       "firefighting                    14\n",
       "public aircraft - local         12\n",
       "asho                             5\n",
       "air race/show                    4\n",
       "air drop                         3\n",
       "pubs                             3\n",
       "Name: Purpose.of.Flight, dtype: int64"
      ]
     },
     "execution_count": 171,
     "metadata": {},
     "output_type": "execute_result"
    }
   ],
   "source": [
    "df['Purpose.of.Flight'].value_counts()"
   ]
  },
  {
   "cell_type": "code",
   "execution_count": 172,
   "metadata": {},
   "outputs": [
    {
     "data": {
      "text/plain": [
       "personal              13026\n",
       "instructional          3054\n",
       "aerial application     1014\n",
       "business                955\n",
       "unknown                 550\n",
       "positioning             336\n",
       "private transport       285\n",
       "recreational            192\n",
       "aerial observation      153\n",
       "flight test             114\n",
       "public - govt           101\n",
       "air show                 48\n",
       "public transport         38\n",
       "Name: Purpose.Binned, dtype: int64"
      ]
     },
     "execution_count": 172,
     "metadata": {},
     "output_type": "execute_result"
    }
   ],
   "source": [
    "# New column 'Purpose.Binned' to group 'Purpose.of.Flight' into more general categories\n",
    "\n",
    "# New category 'public - govt' to include 'public aircraft - federal', 'public aircraft - state', 'public aircraft - local', 'public aircraft - u.s. govt.', 'pubs', 'firefighting' \n",
    "df['Purpose.Binned'] = df['Purpose.of.Flight'].replace(['public aircraft - federal', 'public aircraft - state', 'pubs', 'public aircraft - local', 'publ', 'public aircraft - u.s. govt.','firefighting'], 'public - govt')\n",
    "\n",
    "# New category 'public transport' to include 'public aircraft',\n",
    "df['Purpose.Binned'] = df['Purpose.Binned'].replace(['public aircraft'], 'public transport')\n",
    "\n",
    "# New category 'business' to include 'business', 'other work use', 'banner tow', 'air drop'\n",
    "df['Purpose.Binned'] = df['Purpose.Binned'].replace(['business', 'other work use', 'banner tow', 'air drop'], 'business')\n",
    "\n",
    "# New category 'recreational' to include 'skydiving', 'glider tow'\n",
    "df['Purpose.Binned'] = df['Purpose.Binned'].replace(['skydiving', 'glider tow'], 'recreational')\n",
    "\n",
    "# New category 'private transport' to include 'executive/corporate', 'ferry'\n",
    "df['Purpose.Binned'] = df['Purpose.Binned'].replace(['executive/corporate', 'ferry'], 'private transport')\n",
    "\n",
    "# New category 'air show' to include 'air race show', 'air race/show', 'asho'\n",
    "df['Purpose.Binned'] = df['Purpose.Binned'].replace(['air race show', 'air race/show', 'asho'], 'air show')\n",
    "\n",
    "df.insert(23, 'Purpose.Binned', df.pop('Purpose.Binned'))\n",
    "df['Purpose.Binned'].value_counts()"
   ]
  },
  {
   "cell_type": "markdown",
   "metadata": {},
   "source": [
    "### Filtering the 'Make' series\n",
    "\n",
    "The make of the aircraft is going to be important to our analysis since we want to find the safest make (or the safest make given the chosen purpose of our aircraft). There's a lot of noise in the data, however, so we first try to group the most popular makes according to name. In our analysis, we'll then take the top 25 and top 10 most popular makes to draw our conclusions.\n"
   ]
  },
  {
   "cell_type": "code",
   "execution_count": 173,
   "metadata": {},
   "outputs": [
    {
     "data": {
      "text/plain": [
       "cessna                    7679\n",
       "piper                     4311\n",
       "beech                     1520\n",
       "boeing                     446\n",
       "mooney                     391\n",
       "                          ... \n",
       "rolladen-schneider           1\n",
       "columbia aircraft mfg.       1\n",
       "hughes aero corp             1\n",
       "carlo robert                 1\n",
       "europro cz                   1\n",
       "Name: Make, Length: 1015, dtype: int64"
      ]
     },
     "execution_count": 173,
     "metadata": {},
     "output_type": "execute_result"
    }
   ],
   "source": [
    "# Checking out the raw 'Make' values\n",
    "df['Make'].value_counts()"
   ]
  },
  {
   "cell_type": "code",
   "execution_count": 174,
   "metadata": {},
   "outputs": [
    {
     "name": "stdout",
     "output_type": "stream",
     "text": [
      "['cessna', 'cessna aircraft co', 'cessna/air repair inc', 'cessna/weaver', 'cessna ector', 'cessna aircraft', 'cessna aircraft co.']\n",
      "['grumman', 'grumman american', 'grumman-schweizer', 'grumman american avn. corp.', 'grumman american aviation', 'grumman acft eng', 'grumman acft eng cor-schweizer', 'grumman aircraft eng corp', 'grumman american aviation corp', 'grumman aircraft', 'grumman schweizer', 'grumman acft eng cor', 'grumman aircraft cor-schweizer', 'grumman american avn. corp']\n",
      "['de havilland', 'dehavilland', 'dehavilland canada']\n",
      "['cirrus design corp.', 'cirrus', 'cirrus design', 'cirrus design corp', 'cirrus design corporation']\n",
      "['piper', 'piper-aerostar', 'piper aircraft', 'piper/cub crafters', 'piper cub crafters', 'piper aerostar', 'new piper aircraft inc', 'piper aircraft inc', 'jetprop dlx piper', \"piper/wally's flyers inc\", 'piper aircraft, inc.', 'new piper', 'piper / laudeman', 'piper-harris', 'piper aircraft corporation']\n",
      "['boeing', 'boeing stearman', 'boeing of canada/dehav div', 'boeing-stearman', 'boeing company, long beach div', 'boeing company', 'boeing (stearman)']\n",
      "['mooney', 'mooney aircraft corp', 'mooney aircraft corp.', 'mooney airplane co inc', 'mooney airplane company, inc.', 'mooney international corp']\n",
      "['air tractor', 'air tractor inc.', 'air tractor inc', 'air tractor, inc.']\n"
     ]
    }
   ],
   "source": [
    "# Make a list of all the entries that have \"cessna\" in them and return their strings in a list\n",
    "cessna_list = df[df['Make'].str.contains('cessna')]['Make'].unique().tolist()\n",
    "\n",
    "#Do the same with the other big makes\n",
    "grumman_list = df[df['Make'].str.contains('grumman')]['Make'].unique().tolist()\n",
    "dehavilland_list = df[df['Make'].str.contains('havilland')]['Make'].unique().tolist()\n",
    "cirrus_list = df[df['Make'].str.contains('cirrus')]['Make'].unique().tolist()\n",
    "piper_list = df[df['Make'].str.contains('piper')]['Make'].unique().tolist()\n",
    "boeing_list = df[df['Make'].str.contains('boeing')]['Make'].unique().tolist()\n",
    "mooney_list = df[df['Make'].str.contains('mooney')]['Make'].unique().tolist()\n",
    "airtractor_list = df[df['Make'].str.contains('air tractor')]['Make'].unique().tolist()\n",
    "\n",
    "print(cessna_list)\n",
    "print(grumman_list)\n",
    "print(dehavilland_list)\n",
    "print(cirrus_list)\n",
    "print(piper_list)\n",
    "print(boeing_list)\n",
    "print(mooney_list)\n",
    "print(airtractor_list)"
   ]
  },
  {
   "cell_type": "code",
   "execution_count": 175,
   "metadata": {},
   "outputs": [
    {
     "data": {
      "text/plain": [
       "cessna                7712\n",
       "piper                 4357\n",
       "beech                 1520\n",
       "boeing                 446\n",
       "mooney                 437\n",
       "                      ... \n",
       "breezer aircraft         1\n",
       "grum amer                1\n",
       "fields mike              1\n",
       "rolladen-schneider       1\n",
       "europro cz               1\n",
       "Name: Make, Length: 968, dtype: int64"
      ]
     },
     "execution_count": 175,
     "metadata": {},
     "output_type": "execute_result"
    }
   ],
   "source": [
    "df['Make'] = df['Make'].replace(cessna_list, 'cessna')\n",
    "df['Make'] = df['Make'].replace(grumman_list, 'grumman')\n",
    "df['Make'] = df['Make'].replace(dehavilland_list, 'dehavilland')\n",
    "df['Make'] = df['Make'].replace(cirrus_list, 'cirrus')\n",
    "df['Make'] = df['Make'].replace(piper_list, 'piper')\n",
    "df['Make'] = df['Make'].replace(mooney_list, 'mooney')\n",
    "df['Make'] = df['Make'].replace(airtractor_list, 'airtractor')\n",
    "\n",
    "# And we can now see the totals, with slightly different numbers than before.\n",
    "df['Make'].value_counts()"
   ]
  },
  {
   "cell_type": "code",
   "execution_count": 176,
   "metadata": {},
   "outputs": [
    {
     "data": {
      "text/plain": [
       "cessna                       7712\n",
       "piper                        4357\n",
       "beech                        1520\n",
       "boeing                        446\n",
       "mooney                        437\n",
       "airtractor                    414\n",
       "grumman                       409\n",
       "cirrus                        328\n",
       "bellanca                      279\n",
       "aeronca                       226\n",
       "maule                         225\n",
       "champion                      164\n",
       "dehavilland                   164\n",
       "luscombe                      162\n",
       "stinson                       145\n",
       "north american                113\n",
       "taylorcraft                   109\n",
       "aero commander                 94\n",
       "embraer                        85\n",
       "airbus                         79\n",
       "aviat aircraft inc             76\n",
       "diamond aircraft ind inc       73\n",
       "aviat                          68\n",
       "ercoupe                        66\n",
       "raytheon aircraft company      61\n",
       "Name: Make, dtype: int64"
      ]
     },
     "execution_count": 176,
     "metadata": {},
     "output_type": "execute_result"
    }
   ],
   "source": [
    "# Making a new df that only accepts the top 25 makes:\n",
    "top_makes = df['Make'].value_counts().head(25).index.tolist()\n",
    "top_makes_df = df[df['Make'].isin(top_makes)].copy()\n",
    "top_makes_df['Make'].value_counts()"
   ]
  },
  {
   "cell_type": "markdown",
   "metadata": {},
   "source": [
    "### Airports"
   ]
  },
  {
   "cell_type": "code",
   "execution_count": 177,
   "metadata": {},
   "outputs": [
    {
     "data": {
      "text/plain": [
       "private                345\n",
       "none                    38\n",
       "merrill field           34\n",
       "phoenix deer valley     25\n",
       "north las vegas         23\n",
       "                      ... \n",
       "preston airport          1\n",
       "markley farm             1\n",
       "sugarloaf                1\n",
       "herington rgnl           1\n",
       "neil armstrong           1\n",
       "Name: Airport.Name, Length: 8543, dtype: int64"
      ]
     },
     "execution_count": 177,
     "metadata": {},
     "output_type": "execute_result"
    }
   ],
   "source": [
    "# Clean airport names\n",
    "\n",
    "df['Airport.Name'] = df['Airport.Name'].replace(['private airstrip', 'private strip', 'pvt'], 'private')\n",
    "df['Airport.Name'].value_counts()"
   ]
  },
  {
   "cell_type": "markdown",
   "metadata": {},
   "source": [
    "### Weather"
   ]
  },
  {
   "cell_type": "code",
   "execution_count": 178,
   "metadata": {},
   "outputs": [
    {
     "data": {
      "text/plain": [
       "VMC    19242\n",
       "IMC     1252\n",
       "UNK      162\n",
       "Name: Weather.Condition, dtype: int64"
      ]
     },
     "execution_count": 178,
     "metadata": {},
     "output_type": "execute_result"
    }
   ],
   "source": [
    "# Clean 'Weather.Condition'\n",
    "\n",
    "df['Weather.Condition'] = df['Weather.Condition'].str.upper()\n",
    "df['Weather.Condition'].value_counts()\n",
    "\n",
    "# VMC - Visual Meteorological Conditions - generally clear and good visibility; pilots can navigate and operate aircraft by visual reference to the ground\n",
    "# IMC - Instrument Meteorological Conditions - reduced visibility due to factors like fog, rain, or low clouds; pilots may need to rely on instruments for navigation and control\n",
    "# UNK - Unknown"
   ]
  },
  {
   "cell_type": "markdown",
   "metadata": {},
   "source": [
    "### Injury Severity"
   ]
  },
  {
   "cell_type": "code",
   "execution_count": 179,
   "metadata": {},
   "outputs": [
    {
     "data": {
      "text/plain": [
       "non-fatal    17433\n",
       "fatal         2429\n",
       "fatal(1)       308\n",
       "fatal(2)       221\n",
       "incident       164\n",
       "minor          138\n",
       "serious         95\n",
       "fatal(3)        75\n",
       "fatal(4)        60\n",
       "fatal(5)        22\n",
       "fatal(6)        14\n",
       "fatal(7)         9\n",
       "fatal(8)         7\n",
       "fatal(10)        4\n",
       "fatal(12)        3\n",
       "fatal(16)        1\n",
       "fatal(14)        1\n",
       "fatal(9)         1\n",
       "fatal(11)        1\n",
       "fatal(65)        1\n",
       "Name: Injury.Severity, dtype: int64"
      ]
     },
     "execution_count": 179,
     "metadata": {},
     "output_type": "execute_result"
    }
   ],
   "source": [
    "# Looking at the 'Injury.Severity' column\n",
    "# We see that it tells us how many people died in a given incident\n",
    "df['Injury.Severity'].value_counts().head(20)"
   ]
  },
  {
   "cell_type": "code",
   "execution_count": 180,
   "metadata": {},
   "outputs": [
    {
     "data": {
      "text/plain": [
       "0      20333\n",
       "1        308\n",
       "2        221\n",
       "3         75\n",
       "4         60\n",
       "5         22\n",
       "6         14\n",
       "7          9\n",
       "8          7\n",
       "10         4\n",
       "12         3\n",
       "9          1\n",
       "13         1\n",
       "228        1\n",
       "11         1\n",
       "27         1\n",
       "65         1\n",
       "17         1\n",
       "16         1\n",
       "14         1\n",
       "Name: Num.Fatalities, dtype: int64"
      ]
     },
     "execution_count": 180,
     "metadata": {},
     "output_type": "execute_result"
    }
   ],
   "source": [
    "# Split number from Fatal(#) to count number of fatalities\n",
    "# Create a new column tracking the number of these fatalities\n",
    "df['Num.Fatalities'] = df['Injury.Severity'].str.split('(').str[-1]\n",
    "df['Num.Fatalities'] = df['Num.Fatalities'].str.split(')').str[0]\n",
    "df['Num.Fatalities'] = pd.to_numeric(df['Num.Fatalities'], errors='coerce').fillna(0).astype(int)\n",
    "df.insert(14, 'Num.Fatalities', df.pop('Num.Fatalities'))\n",
    "df['Num.Fatalities'].value_counts()"
   ]
  },
  {
   "cell_type": "code",
   "execution_count": 181,
   "metadata": {},
   "outputs": [
    {
     "data": {
      "text/plain": [
       "non-fatal    17433\n",
       "fatal         3161\n",
       "incident       164\n",
       "minor          138\n",
       "serious         95\n",
       "Name: Injury.Severity, dtype: int64"
      ]
     },
     "execution_count": 181,
     "metadata": {},
     "output_type": "execute_result"
    }
   ],
   "source": [
    "# Update labeling in 'Injury.Severity' column, since we now have a different column that tracks total number of fatalities\n",
    "\n",
    "df['Injury.Severity'] = df['Injury.Severity'].str.split('(').str[0]\n",
    "df['Injury.Severity'].value_counts()"
   ]
  },
  {
   "cell_type": "code",
   "execution_count": 182,
   "metadata": {},
   "outputs": [],
   "source": [
    "# Move other injury columns next to Injury.Severity\n",
    "df.insert(15, 'Total.Fatal.Injuries', df.pop('Total.Fatal.Injuries'))\n",
    "df.insert(16, 'Total.Serious.Injuries', df.pop('Total.Serious.Injuries'))\n",
    "df.insert(17, 'Total.Minor.Injuries', df.pop('Total.Minor.Injuries'))\n",
    "df.insert(18, 'Total.Uninjured', df.pop('Total.Uninjured'))"
   ]
  },
  {
   "cell_type": "markdown",
   "metadata": {},
   "source": [
    "### Damage Severity Score\n",
    "\n",
    "Making a 'DS.Score' column that takes the 'Aircraft.damage' column and reassigns each category a number:\n",
    "\n",
    "    - 'destroyed' -> 3\n",
    "    - 'substantial' -> 2\n",
    "    - 'minor' -> 1\n",
    "    \n",
    "For the time being, 'unknown' is left as such."
   ]
  },
  {
   "cell_type": "code",
   "execution_count": 183,
   "metadata": {},
   "outputs": [],
   "source": [
    "# Make a DS.Score based on the 'Aircraft.Damage' column\n",
    "\n",
    "df['DS.Score'] = df['Aircraft.Damage'].replace({\n",
    "    'destroyed': 3,\n",
    "    'substantial': 2,\n",
    "    'minor': 1,\n",
    "})\n",
    "df['DS.Score'].value_counts()\n",
    "\n",
    "df.insert(20, 'DS.Score', df.pop('DS.Score'))"
   ]
  },
  {
   "cell_type": "markdown",
   "metadata": {},
   "source": [
    "# Save cleaned .csv"
   ]
  },
  {
   "cell_type": "code",
   "execution_count": 184,
   "metadata": {},
   "outputs": [
    {
     "data": {
      "text/plain": [
       "VMC    19242\n",
       "IMC     1252\n",
       "UNK      162\n",
       "Name: Weather.Condition, dtype: int64"
      ]
     },
     "execution_count": 184,
     "metadata": {},
     "output_type": "execute_result"
    }
   ],
   "source": [
    "df = df.applymap(lambda x: x.title() if type(x) == str else x)\n",
    "df['Weather.Condition'] = df['Weather.Condition'].str.upper()\n",
    "df['Weather.Condition'].value_counts()"
   ]
  },
  {
   "cell_type": "code",
   "execution_count": 185,
   "metadata": {},
   "outputs": [
    {
     "name": "stdout",
     "output_type": "stream",
     "text": [
      "<class 'pandas.core.frame.DataFrame'>\n",
      "Int64Index: 21065 entries, 5 to 82234\n",
      "Data columns (total 35 columns):\n",
      " #   Column                  Non-Null Count  Dtype         \n",
      "---  ------                  --------------  -----         \n",
      " 0   Event.ID                21065 non-null  object        \n",
      " 1   Investigation.Type      21065 non-null  object        \n",
      " 2   Accident.Number         21065 non-null  object        \n",
      " 3   Event.Date              21065 non-null  datetime64[ns]\n",
      " 4   Year                    21065 non-null  int64         \n",
      " 5   Location                21065 non-null  object        \n",
      " 6   State.Code              21065 non-null  object        \n",
      " 7   State.Name              21065 non-null  object        \n",
      " 8   Region                  21065 non-null  object        \n",
      " 9   Latitude                17904 non-null  object        \n",
      " 10  Longitude               17897 non-null  object        \n",
      " 11  Airport.Code            14795 non-null  object        \n",
      " 12  Airport.Name            15202 non-null  object        \n",
      " 13  Injury.Severity         20991 non-null  object        \n",
      " 14  Num.Fatalities          21065 non-null  int64         \n",
      " 15  Total.Fatal.Injuries    18480 non-null  float64       \n",
      " 16  Total.Serious.Injuries  18472 non-null  float64       \n",
      " 17  Total.Minor.Injuries    18758 non-null  float64       \n",
      " 18  Total.Uninjured         20507 non-null  float64       \n",
      " 19  Aircraft.Damage         20596 non-null  object        \n",
      " 20  DS.Score                20596 non-null  object        \n",
      " 21  Registration.Number     21058 non-null  object        \n",
      " 22  Make                    21065 non-null  object        \n",
      " 23  Model                   21059 non-null  object        \n",
      " 24  Number.of.Engines       20591 non-null  float64       \n",
      " 25  Engine.Type             19432 non-null  object        \n",
      " 26  FAR.Description         21065 non-null  object        \n",
      " 27  Schedule                1942 non-null   object        \n",
      " 28  Purpose.of.Flight       19866 non-null  object        \n",
      " 29  Purpose.Binned          19866 non-null  object        \n",
      " 30  Air.Carrier             8802 non-null   object        \n",
      " 31  Weather.Condition       20656 non-null  object        \n",
      " 32  Broad.Phase.of.Flight   5773 non-null   object        \n",
      " 33  Report.Status           19159 non-null  object        \n",
      " 34  Publication.Date        20826 non-null  object        \n",
      "dtypes: datetime64[ns](1), float64(5), int64(2), object(27)\n",
      "memory usage: 5.8+ MB\n"
     ]
    }
   ],
   "source": [
    "df.info()"
   ]
  },
  {
   "cell_type": "code",
   "execution_count": 186,
   "metadata": {},
   "outputs": [],
   "source": [
    "# Save cleaned df to a new csv file\n",
    "df.to_csv('../data/AviationData_cleaned.csv', index=False)"
   ]
  }
 ],
 "metadata": {
  "kernelspec": {
   "display_name": "learn-env",
   "language": "python",
   "name": "python3"
  },
  "language_info": {
   "codemirror_mode": {
    "name": "ipython",
    "version": 3
   },
   "file_extension": ".py",
   "mimetype": "text/x-python",
   "name": "python",
   "nbconvert_exporter": "python",
   "pygments_lexer": "ipython3",
   "version": "3.8.5"
  }
 },
 "nbformat": 4,
 "nbformat_minor": 2
}
