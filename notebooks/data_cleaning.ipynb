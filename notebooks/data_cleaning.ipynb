{
 "cells": [
  {
   "cell_type": "code",
   "execution_count": 122,
   "metadata": {},
   "outputs": [],
   "source": [
    "import pandas as pd\n",
    "import numpy as np\n",
    "import matplotlib.pyplot as plt"
   ]
  },
  {
   "cell_type": "code",
   "execution_count": 123,
   "metadata": {},
   "outputs": [
    {
     "name": "stderr",
     "output_type": "stream",
     "text": [
      "/Users/meghanapakala/anaconda3/envs/learn-env/lib/python3.8/site-packages/IPython/core/interactiveshell.py:3145: DtypeWarning: Columns (6,7,28) have mixed types.Specify dtype option on import or set low_memory=False.\n",
      "  has_raised = await self.run_ast_nodes(code_ast.body, cell_name,\n"
     ]
    }
   ],
   "source": [
    "# Import data\n",
    "df = pd.read_csv('../data/AviationData.csv', encoding='latin-1')\n",
    "state_codes = pd.read_csv('../data/USState_Codes.csv')"
   ]
  },
  {
   "cell_type": "markdown",
   "metadata": {},
   "source": [
    "### Initial Data Cleaning"
   ]
  },
  {
   "cell_type": "code",
   "execution_count": 124,
   "metadata": {},
   "outputs": [
    {
     "name": "stdout",
     "output_type": "stream",
     "text": [
      "<class 'pandas.core.frame.DataFrame'>\n",
      "RangeIndex: 88889 entries, 0 to 88888\n",
      "Data columns (total 32 columns):\n",
      " #   Column                  Non-Null Count  Dtype         \n",
      "---  ------                  --------------  -----         \n",
      " 0   Event.ID                88889 non-null  object        \n",
      " 1   Investigation.Type      88889 non-null  object        \n",
      " 2   Accident.Number         88889 non-null  object        \n",
      " 3   Event.Date              88889 non-null  datetime64[ns]\n",
      " 4   Year                    88889 non-null  int64         \n",
      " 5   Location                88837 non-null  object        \n",
      " 6   Country                 88663 non-null  object        \n",
      " 7   Latitude                34382 non-null  object        \n",
      " 8   Longitude               34373 non-null  object        \n",
      " 9   Airport.Code            50249 non-null  object        \n",
      " 10  Airport.Name            52790 non-null  object        \n",
      " 11  Injury.Severity         87889 non-null  object        \n",
      " 12  Aircraft.Damage         85695 non-null  object        \n",
      " 13  Aircraft.Category       32287 non-null  object        \n",
      " 14  Registration.Number     87572 non-null  object        \n",
      " 15  Make                    88826 non-null  object        \n",
      " 16  Model                   88797 non-null  object        \n",
      " 17  Amateur.Built           88787 non-null  object        \n",
      " 18  Number.of.Engines       82805 non-null  float64       \n",
      " 19  Engine.Type             81812 non-null  object        \n",
      " 20  FAR.Description         32023 non-null  object        \n",
      " 21  Schedule                12582 non-null  object        \n",
      " 22  Purpose.of.Flight       82697 non-null  object        \n",
      " 23  Air.Carrier             16648 non-null  object        \n",
      " 24  Total.Fatal.Injuries    77488 non-null  float64       \n",
      " 25  Total.Serious.Injuries  76379 non-null  float64       \n",
      " 26  Total.Minor.Injuries    76956 non-null  float64       \n",
      " 27  Total.Uninjured         82977 non-null  float64       \n",
      " 28  Weather.Condition       84397 non-null  object        \n",
      " 29  Broad.Phase.of.Flight   61724 non-null  object        \n",
      " 30  Report.Status           82508 non-null  object        \n",
      " 31  Publication.Date        75118 non-null  object        \n",
      "dtypes: datetime64[ns](1), float64(5), int64(1), object(25)\n",
      "memory usage: 21.7+ MB\n"
     ]
    }
   ],
   "source": [
    "# Change the date column to a datetime object\n",
    "df['Event.Date'] = pd.to_datetime(df['Event.Date'])\n",
    "# Creating a column for the year and insert next to Event.Date\n",
    "df['Year'] = df['Event.Date'].dt.year\n",
    "df.insert(4, 'Year', df.pop('Year'))\n",
    "\n",
    "# Making everything in the df lowercase so we can get more accurate counts\n",
    "df = df.applymap(lambda x: x.lower() if type(x) == str else x)\n",
    "# Renaming columns in titlecase (aesthetic purposes only)\n",
    "df = df.rename(columns={'Event.Id':'Event.ID','Aircraft.damage':'Aircraft.Damage','Purpose.of.flight':'Purpose.of.Flight','Air.carrier':'Air.Carrier','Broad.phase.of.flight':'Broad.Phase.of.Flight'})\n",
    "\n",
    "df.info()"
   ]
  },
  {
   "cell_type": "markdown",
   "metadata": {},
   "source": [
    "### Geographic Filtering"
   ]
  },
  {
   "cell_type": "code",
   "execution_count": 125,
   "metadata": {},
   "outputs": [
    {
     "data": {
      "text/plain": [
       "CA    8857\n",
       "TX    5913\n",
       "FL    5825\n",
       "AK    5672\n",
       "AZ    2834\n",
       "      ... \n",
       "PO      14\n",
       "GU       8\n",
       "VI       6\n",
       "UN       3\n",
       "CB       1\n",
       "Name: State, Length: 61, dtype: int64"
      ]
     },
     "execution_count": 125,
     "metadata": {},
     "output_type": "execute_result"
    }
   ],
   "source": [
    "# Filtering out non-US incidents and removing column\n",
    "df = df[df['Country'] == 'united states']\n",
    "df = df.drop(columns=['Country'])\n",
    "\n",
    "# Pull state info from locations and create new column next to Location\n",
    "df['State'] = df['Location'].str.split(',').str[-1].str.strip().str.upper()\n",
    "df.insert(6, 'State', df.pop('State'))\n",
    "df['State'].value_counts()"
   ]
  },
  {
   "cell_type": "code",
   "execution_count": 126,
   "metadata": {},
   "outputs": [],
   "source": [
    "# Merge state names to abbreviated codes\n",
    "df = pd.merge(df, state_codes, how='left', left_on='State', right_on='Abbreviation')\n",
    "df = df.drop(['Abbreviation'], 1)\n",
    "df = df.rename(columns={'State':'State.Code','US_State':\"State.Name\"})\n",
    "df.insert(7, 'State.Name', df.pop('State.Name'))"
   ]
  },
  {
   "cell_type": "code",
   "execution_count": 127,
   "metadata": {},
   "outputs": [
    {
     "data": {
      "text/plain": [
       "West               27936\n",
       "South              19582\n",
       "Midwest            15469\n",
       "Southwest          11345\n",
       "Northeast           7618\n",
       "Other Territory      172\n",
       "Ocean                 31\n",
       "Name: Region, dtype: int64"
      ]
     },
     "execution_count": 127,
     "metadata": {},
     "output_type": "execute_result"
    }
   ],
   "source": [
    "# Mapping states to regions based off data from http://nationalgeographic.org/maps/united-states-regions/\n",
    "# DC is categorized as a state; Atlantic and Pacific categorized as 'Ocean'\n",
    "# Guam, PR, VI, Gulf of Mexico categorized as 'Other Territory'\n",
    "\n",
    "\n",
    "states_to_regions = {\n",
    "    'Washington': 'West', 'Oregon': 'West', 'California': 'West', 'Nevada': 'West',\n",
    "    'Idaho': 'West', 'Montana': 'West', 'Wyoming': 'West', 'Utah': 'West',\n",
    "    'Colorado': 'West', 'Alaska': 'West', 'Hawaii': 'West', 'Maine': 'Northeast',\n",
    "    'Vermont': 'Northeast', 'New York': 'Northeast', 'New Hampshire': 'Northeast',\n",
    "    'Massachusetts': 'Northeast', 'Rhode Island': 'Northeast', 'Connecticut': 'Northeast',\n",
    "    'New Jersey': 'Northeast', 'Pennsylvania': 'Northeast', 'North Dakota': 'Midwest',\n",
    "    'South Dakota': 'Midwest', 'Nebraska': 'Midwest', 'Kansas': 'Midwest',\n",
    "    'Minnesota': 'Midwest', 'Iowa': 'Midwest', 'Missouri': 'Midwest', 'Wisconsin': 'Midwest',\n",
    "    'Illinois': 'Midwest', 'Michigan': 'Midwest', 'Indiana': 'Midwest', 'Ohio': 'Midwest',\n",
    "    'West Virginia': 'South', 'Maryland': 'South', 'Virginia': 'South', 'Kentucky': 'South', \n",
    "    'Tennessee': 'South', 'North Carolina': 'South', 'Mississippi': 'South', 'Arkansas': 'South', \n",
    "    'Louisiana': 'South', 'Alabama': 'South', 'Georgia': 'South', 'South Carolina': 'South', \n",
    "    'Florida': 'South', 'Delaware': 'South', 'Arizona': 'Southwest', 'New Mexico': 'Southwest', \n",
    "    'Oklahoma': 'Southwest', 'Texas': 'Southwest', 'Washington_DC': 'South', \n",
    "    'Guam': 'Other Territory', 'Puerto Rico': 'Other Territory', 'Virgin Islands': 'Other Territory',\n",
    "     'Gulf of mexico': 'Other Territory', 'Atlantic ocean': 'Ocean', 'Pacific ocean': 'Ocean' }\n",
    "\n",
    "df['Region'] = df['State.Name'].map(states_to_regions)\n",
    "df.insert(8, 'Region', df.pop('Region'))\n",
    "df['Region'].value_counts()"
   ]
  },
  {
   "cell_type": "markdown",
   "metadata": {},
   "source": [
    "### Aircraft Type"
   ]
  },
  {
   "cell_type": "code",
   "execution_count": 128,
   "metadata": {},
   "outputs": [],
   "source": [
    "# Filtering out 'Amateur.Built' aircraft and removing column\n",
    "df = df[df['Amateur.Built'] == 'no']\n",
    "df = df.drop(columns=['Amateur.Built'])"
   ]
  },
  {
   "cell_type": "code",
   "execution_count": 129,
   "metadata": {},
   "outputs": [
    {
     "data": {
      "text/plain": [
       "<AxesSubplot:>"
      ]
     },
     "execution_count": 129,
     "metadata": {},
     "output_type": "execute_result"
    },
    {
     "data": {
      "image/png": "[encoded data removed]",
      "text/plain": [
       "<Figure size 1080x360 with 1 Axes>"
      ]
     },
     "metadata": {
      "needs_background": "light"
     },
     "output_type": "display_data"
    }
   ],
   "source": [
    "# One interesting thing to note here is the difference in the number of entries per year\n",
    "# Here it is *before* we filter out non-airplane incidents\n",
    "\n",
    "df['Year'].value_counts().sort_index().plot(kind='bar', figsize=(15, 5))"
   ]
  },
  {
   "cell_type": "code",
   "execution_count": 130,
   "metadata": {},
   "outputs": [
    {
     "data": {
      "text/plain": [
       "<AxesSubplot:>"
      ]
     },
     "execution_count": 130,
     "metadata": {},
     "output_type": "execute_result"
    },
    {
     "data": {
      "image/png": "[encoded data removed]",
      "text/plain": [
       "<Figure size 1080x360 with 1 Axes>"
      ]
     },
     "metadata": {
      "needs_background": "light"
     },
     "output_type": "display_data"
    }
   ],
   "source": [
    "# We can see that the airplane-related incidents and the non-airplane-related incidents are mirror images of each other\n",
    "\n",
    "df_notplanes = df[df['Aircraft.Category'] != 'airplane']\n",
    "df_notplanes['Year'].value_counts().sort_index().plot(kind='bar', figsize=(15, 5))"
   ]
  },
  {
   "cell_type": "code",
   "execution_count": 131,
   "metadata": {},
   "outputs": [
    {
     "data": {
      "text/plain": [
       "<AxesSubplot:>"
      ]
     },
     "execution_count": 131,
     "metadata": {},
     "output_type": "execute_result"
    },
    {
     "data": {
      "image/png": "[encoded data removed]",
      "text/plain": [
       "<Figure size 1080x360 with 1 Axes>"
      ]
     },
     "metadata": {
      "needs_background": "light"
     },
     "output_type": "display_data"
    }
   ],
   "source": [
    "# Filtering out all non-'airplane' incidents and removing column\n",
    "df = df[df['Aircraft.Category'] == 'airplane']\n",
    "df = df.drop(columns=['Aircraft.Category'])\n",
    "\n",
    "# And now regraph after the filtering:\n",
    "df['Year'].value_counts().sort_index().plot(kind='bar', figsize=(15, 5))"
   ]
  },
  {
   "cell_type": "markdown",
   "metadata": {},
   "source": [
    "### FAR Codes & Purpose of Flight"
   ]
  },
  {
   "cell_type": "code",
   "execution_count": 132,
   "metadata": {},
   "outputs": [
    {
     "data": {
      "text/plain": [
       "part 91     18388\n",
       "part 137     1099\n",
       "part 135      756\n",
       "part 121      632\n",
       "public        134\n",
       "part 129       59\n",
       "nusc           12\n",
       "unknown        10\n",
       "nusn           10\n",
       "part 125        8\n",
       "unk             7\n",
       "part 133        2\n",
       "armf            2\n",
       "Name: FAR.Description, dtype: int64"
      ]
     },
     "execution_count": 132,
     "metadata": {},
     "output_type": "execute_result"
    }
   ],
   "source": [
    "# Cleaning up the FAR.Description column using a .replace() \n",
    "# See here for more info on FAR: \n",
    "# https://pilotinstitute.com/part-91-vs-121-vs-135/\n",
    "\n",
    "df['FAR.Description'] = df['FAR.Description'].replace({\n",
    "    '091': 'part 91',\n",
    "    'part 91: general aviation': 'part 91',\n",
    "    '137': 'part 137',\n",
    "    '135': 'part 135',\n",
    "    '121': 'part 121',\n",
    "    'part 137: agricultural': 'part 137',\n",
    "    'part 135: air taxi & commuter': 'part 135',\n",
    "    '129': 'part 129',\n",
    "    'part 121: air carrier': 'part 121',\n",
    "    '133': 'part 133',\n",
    "    'part 129: foreign': 'part 129',\n",
    "    'part 133: rotorcraft external load': 'part 133',\n",
    "    'part 133: rotorcraft ext. load': 'part 133',\n",
    "    '125' : 'part 125',\n",
    "    'part 125: 20+ pax,6000+ lbs': 'part 125',\n",
    "    '107': 'part 107',\n",
    "    '103': 'part 103',\n",
    "    '437': 'part 437',\n",
    "    'part91f': 'part 91',\n",
    "    'part 91 subpart f': 'part 91',\n",
    "    'part 91f: special flt ops.': 'part 91',\n",
    "    'part 91 subpart k: fractional': 'part 91',\n",
    "    '091k': 'part 91',\n",
    "    'pubu': 'public',\n",
    "    'public use': 'public',\n",
    "    'public aircraft': 'public',\n",
    "    'armed forces': 'armf',\n",
    "}\n",
    ")\n",
    "\n",
    "df['FAR.Description'].value_counts()"
   ]
  },
  {
   "cell_type": "code",
   "execution_count": 133,
   "metadata": {},
   "outputs": [
    {
     "data": {
      "text/plain": [
       "personal                     13042\n",
       "instructional                 3059\n",
       "aerial application            1014\n",
       "business                       723\n",
       "unknown                        551\n",
       "positioning                    337\n",
       "skydiving                      158\n",
       "aerial observation             154\n",
       "ferry                          148\n",
       "other work use                 142\n",
       "executive/corporate            138\n",
       "flight test                    114\n",
       "banner tow                      89\n",
       "public aircraft - federal       48\n",
       "air race show                   39\n",
       "public aircraft                 38\n",
       "glider tow                      34\n",
       "public aircraft - state         24\n",
       "firefighting                    14\n",
       "public aircraft - local         12\n",
       "asho                             5\n",
       "air race/show                    4\n",
       "pubs                             3\n",
       "air drop                         3\n",
       "Name: Purpose.of.Flight, dtype: int64"
      ]
     },
     "execution_count": 133,
     "metadata": {},
     "output_type": "execute_result"
    }
   ],
   "source": [
    "df['Purpose.of.Flight'].value_counts()"
   ]
  },
  {
   "cell_type": "code",
   "execution_count": 134,
   "metadata": {},
   "outputs": [
    {
     "data": {
      "text/plain": [
       "personal              13042\n",
       "instructional          3173\n",
       "business               1971\n",
       "unknown                 551\n",
       "positioning             337\n",
       "small transport         286\n",
       "recreational            192\n",
       "aerial observation      154\n",
       "public                  139\n",
       "air show                 48\n",
       "Name: Purpose.Binned, dtype: int64"
      ]
     },
     "execution_count": 134,
     "metadata": {},
     "output_type": "execute_result"
    }
   ],
   "source": [
    "# New column 'Purpose.Binned' to group 'Purpose.of.Flight' into more general categories\n",
    "# New category 'public' to include 'public aircraft', 'public aircraft - federal', 'public aircraft - state', 'public aircraft - local', 'public aircraft - u.s. govt.'\n",
    "df['Purpose.Binned'] = df['Purpose.of.Flight'].replace(['public aircraft', 'public aircraft - federal', 'public aircraft - state', 'public aircraft - local', 'public aircraft - u.s. govt.'], 'public')\n",
    "\n",
    "# New category 'business' to include 'aerial application', 'business', 'other work use', 'banner tow', 'air drop'\n",
    "df['Purpose.Binned'] = df['Purpose.Binned'].replace(['aerial application', 'business', 'other work use', 'banner tow', 'air drop'], 'business')\n",
    "\n",
    "# New category 'recreational' to include 'skydiving', 'glider tow'\n",
    "df['Purpose.Binned'] = df['Purpose.Binned'].replace(['skydiving', 'glider tow'], 'recreational')\n",
    "\n",
    "# New category 'small transport' to include 'executive/corporate', 'ferry'\n",
    "df['Purpose.Binned'] = df['Purpose.Binned'].replace(['executive/corporate', 'ferry'], 'small transport')\n",
    "\n",
    "# Adding 'pubs', 'firefighting' to category 'public'\n",
    "df['Purpose.Binned'] = df['Purpose.Binned'].replace(['pubs', 'firefighting'], 'public')\n",
    "\n",
    "# Adding 'flight test' to category 'instructional'\n",
    "df['Purpose.Binned'] = df['Purpose.Binned'].replace(['flight test'], 'instructional')\n",
    "\n",
    "# New category 'air show' to include 'air race show', 'air race/show', 'asho'\n",
    "df['Purpose.Binned'] = df['Purpose.Binned'].replace(['air race show', 'air race/show', 'asho'], 'air show')\n",
    "\n",
    "df.insert(23, 'Purpose.Binned', df.pop('Purpose.Binned'))\n",
    "df['Purpose.Binned'].value_counts()"
   ]
  },
  {
   "cell_type": "markdown",
   "metadata": {},
   "source": [
    "### Filtering the 'Make' series\n"
   ]
  },
  {
   "cell_type": "code",
   "execution_count": 135,
   "metadata": {},
   "outputs": [
    {
     "data": {
      "text/plain": [
       "cessna                7697\n",
       "piper                 4322\n",
       "beech                 1522\n",
       "boeing                 456\n",
       "mooney                 391\n",
       "                      ... \n",
       "kevin p stolhammer       1\n",
       "honda aircraft           1\n",
       "meyer fred j             1\n",
       "bristol                  1\n",
       "kenneth m franz          1\n",
       "Name: Make, Length: 1015, dtype: int64"
      ]
     },
     "execution_count": 135,
     "metadata": {},
     "output_type": "execute_result"
    }
   ],
   "source": [
    "# Checking out the raw 'Make' values\n",
    "df['Make'].value_counts()"
   ]
  },
  {
   "cell_type": "code",
   "execution_count": 136,
   "metadata": {},
   "outputs": [
    {
     "name": "stdout",
     "output_type": "stream",
     "text": [
      "['cessna', 'cessna aircraft co', 'cessna/air repair inc', 'cessna/weaver', 'cessna ector', 'cessna aircraft', 'cessna aircraft co.']\n",
      "['grumman', 'grumman american', 'grumman-schweizer', 'grumman american avn. corp.', 'grumman american aviation', 'grumman acft eng', 'grumman acft eng cor-schweizer', 'grumman aircraft eng corp', 'grumman american aviation corp', 'grumman aircraft', 'grumman schweizer', 'grumman acft eng cor', 'grumman aircraft cor-schweizer', 'grumman american avn. corp']\n",
      "['de havilland', 'dehavilland', 'dehavilland canada']\n",
      "['cirrus design corp.', 'cirrus', 'cirrus design', 'cirrus design corp', 'cirrus design corporation']\n",
      "['piper', 'piper-aerostar', 'piper aircraft', 'piper/cub crafters', 'piper cub crafters', 'piper aerostar', 'new piper aircraft inc', 'piper aircraft inc', 'jetprop dlx piper', \"piper/wally's flyers inc\", 'piper aircraft, inc.', 'new piper', 'piper / laudeman', 'piper-harris', 'piper aircraft corporation']\n",
      "['boeing', 'boeing stearman', 'boeing of canada/dehav div', 'boeing-stearman', 'boeing company, long beach div', 'boeing company', 'boeing (stearman)']\n",
      "['mooney', 'mooney aircraft corp', 'mooney aircraft corp.', 'mooney airplane co inc', 'mooney airplane company, inc.', 'mooney international corp']\n",
      "['air tractor', 'air tractor inc.', 'air tractor inc', 'air tractor, inc.']\n"
     ]
    }
   ],
   "source": [
    "# Make a list of all the entries that have \"cessna\" in them and return their strings in a list\n",
    "cessna_list = df[df['Make'].str.contains('cessna')]['Make'].unique().tolist()\n",
    "\n",
    "#Do the same with the other big makes\n",
    "grumman_list = df[df['Make'].str.contains('grumman')]['Make'].unique().tolist()\n",
    "dehavilland_list = df[df['Make'].str.contains('havilland')]['Make'].unique().tolist()\n",
    "cirrus_list = df[df['Make'].str.contains('cirrus')]['Make'].unique().tolist()\n",
    "piper_list = df[df['Make'].str.contains('piper')]['Make'].unique().tolist()\n",
    "boeing_list = df[df['Make'].str.contains('boeing')]['Make'].unique().tolist()\n",
    "mooney_list = df[df['Make'].str.contains('mooney')]['Make'].unique().tolist()\n",
    "airtractor_list = df[df['Make'].str.contains('air tractor')]['Make'].unique().tolist()\n",
    "\n",
    "print(cessna_list)\n",
    "print(grumman_list)\n",
    "print(dehavilland_list)\n",
    "print(cirrus_list)\n",
    "print(piper_list)\n",
    "print(boeing_list)\n",
    "print(mooney_list)\n",
    "print(airtractor_list)"
   ]
  },
  {
   "cell_type": "code",
   "execution_count": 137,
   "metadata": {},
   "outputs": [
    {
     "data": {
      "text/plain": [
       "cessna                  7730\n",
       "piper                   4368\n",
       "beech                   1522\n",
       "boeing                   456\n",
       "mooney                   437\n",
       "                        ... \n",
       "blue side up inc           1\n",
       "dusenberry mark j          1\n",
       "new kolb aircraft co       1\n",
       "aaa aircraft llc           1\n",
       "kitty hawk                 1\n",
       "Name: Make, Length: 968, dtype: int64"
      ]
     },
     "execution_count": 137,
     "metadata": {},
     "output_type": "execute_result"
    }
   ],
   "source": [
    "df['Make'] = df['Make'].replace(cessna_list, 'cessna')\n",
    "df['Make'] = df['Make'].replace(grumman_list, 'grumman')\n",
    "df['Make'] = df['Make'].replace(dehavilland_list, 'dehavilland')\n",
    "df['Make'] = df['Make'].replace(cirrus_list, 'cirrus')\n",
    "df['Make'] = df['Make'].replace(piper_list, 'piper')\n",
    "df['Make'] = df['Make'].replace(mooney_list, 'mooney')\n",
    "df['Make'] = df['Make'].replace(airtractor_list, 'airtractor')\n",
    "\n",
    "# And we can now see the totals, with slightly different numbers than before.\n",
    "df['Make'].value_counts()"
   ]
  },
  {
   "cell_type": "code",
   "execution_count": 138,
   "metadata": {},
   "outputs": [
    {
     "data": {
      "text/plain": [
       "cessna                       7730\n",
       "piper                        4368\n",
       "beech                        1522\n",
       "boeing                        456\n",
       "mooney                        437\n",
       "airtractor                    414\n",
       "grumman                       409\n",
       "cirrus                        330\n",
       "bellanca                      279\n",
       "aeronca                       226\n",
       "maule                         225\n",
       "dehavilland                   165\n",
       "champion                      164\n",
       "luscombe                      162\n",
       "stinson                       145\n",
       "north american                114\n",
       "taylorcraft                   109\n",
       "aero commander                 95\n",
       "embraer                        85\n",
       "airbus                         80\n",
       "aviat aircraft inc             76\n",
       "diamond aircraft ind inc       73\n",
       "aviat                          68\n",
       "ercoupe                        66\n",
       "raytheon aircraft company      61\n",
       "Name: Make, dtype: int64"
      ]
     },
     "execution_count": 138,
     "metadata": {},
     "output_type": "execute_result"
    }
   ],
   "source": [
    "# Making a new df that only accepts the top 25 makes:\n",
    "top_makes = df['Make'].value_counts().head(25).index.tolist()\n",
    "top_makes_df = df[df['Make'].isin(top_makes)].copy()\n",
    "top_makes_df['Make'].value_counts()"
   ]
  },
  {
   "cell_type": "markdown",
   "metadata": {},
   "source": [
    "### Airports"
   ]
  },
  {
   "cell_type": "code",
   "execution_count": 139,
   "metadata": {},
   "outputs": [
    {
     "data": {
      "text/plain": [
       "private                           345\n",
       "none                               38\n",
       "merrill field                      34\n",
       "phoenix deer valley                25\n",
       "north las vegas                    23\n",
       "                                 ... \n",
       "fairbanks                           1\n",
       "delaware muni - jim moore fiel      1\n",
       "rochester intl airport              1\n",
       "j a knolle                          1\n",
       "berry hill airport                  1\n",
       "Name: Airport.Name, Length: 8558, dtype: int64"
      ]
     },
     "execution_count": 139,
     "metadata": {},
     "output_type": "execute_result"
    }
   ],
   "source": [
    "# Clean airport names\n",
    "\n",
    "df['Airport.Name'] = df['Airport.Name'].replace(['private airstrip', 'private strip', 'pvt'], 'private')\n",
    "df['Airport.Name'].value_counts()"
   ]
  },
  {
   "cell_type": "markdown",
   "metadata": {},
   "source": [
    "### Weather"
   ]
  },
  {
   "cell_type": "code",
   "execution_count": 140,
   "metadata": {},
   "outputs": [
    {
     "data": {
      "text/plain": [
       "VMC    19278\n",
       "IMC     1253\n",
       "UNK      162\n",
       "Name: Weather.Condition, dtype: int64"
      ]
     },
     "execution_count": 140,
     "metadata": {},
     "output_type": "execute_result"
    }
   ],
   "source": [
    "# Clean 'Weather.Condition'\n",
    "\n",
    "df['Weather.Condition'] = df['Weather.Condition'].str.upper()\n",
    "df['Weather.Condition'].value_counts()\n",
    "\n",
    "# VMC - Visual Meteorological Conditions - generally clear and good visibility; pilots can navigate and operate aircraft by visual reference to the ground\n",
    "# IMC - Instrument Meteorological Conditions - reduced visibility due to factors like fog, rain, or low clouds; pilots may need to rely on instruments for navigation and control\n",
    "# UNK - Unknown"
   ]
  },
  {
   "cell_type": "markdown",
   "metadata": {},
   "source": [
    "### Injury Severity"
   ]
  },
  {
   "cell_type": "code",
   "execution_count": 141,
   "metadata": {},
   "outputs": [
    {
     "data": {
      "text/plain": [
       "non-fatal    17469\n",
       "fatal         2442\n",
       "fatal(1)       308\n",
       "fatal(2)       221\n",
       "incident       164\n",
       "minor          138\n",
       "serious         95\n",
       "fatal(3)        75\n",
       "fatal(4)        60\n",
       "fatal(5)        22\n",
       "fatal(6)        14\n",
       "fatal(7)         9\n",
       "fatal(8)         7\n",
       "fatal(10)        4\n",
       "fatal(12)        3\n",
       "fatal(65)        1\n",
       "fatal(16)        1\n",
       "fatal(9)         1\n",
       "fatal(11)        1\n",
       "fatal(14)        1\n",
       "Name: Injury.Severity, dtype: int64"
      ]
     },
     "execution_count": 141,
     "metadata": {},
     "output_type": "execute_result"
    }
   ],
   "source": [
    "# Looking at the 'Injury.Severity' column\n",
    "# We see that it tells us how many people died in a given incident\n",
    "df['Injury.Severity'].value_counts().head(20)"
   ]
  },
  {
   "cell_type": "code",
   "execution_count": 142,
   "metadata": {},
   "outputs": [
    {
     "data": {
      "text/plain": [
       "0      20389\n",
       "1        308\n",
       "2        221\n",
       "3         75\n",
       "4         60\n",
       "5         22\n",
       "6         14\n",
       "7          9\n",
       "8          7\n",
       "10         4\n",
       "12         3\n",
       "9          1\n",
       "13         1\n",
       "228        1\n",
       "11         1\n",
       "27         1\n",
       "65         1\n",
       "17         1\n",
       "16         1\n",
       "14         1\n",
       "Name: Num.Fatalities, dtype: int64"
      ]
     },
     "execution_count": 142,
     "metadata": {},
     "output_type": "execute_result"
    }
   ],
   "source": [
    "# Split number from Fatal(#) to count number of fatalities\n",
    "# Create a new column tracking the number of these fatalities\n",
    "df['Num.Fatalities'] = df['Injury.Severity'].str.split('(').str[-1]\n",
    "df['Num.Fatalities'] = df['Num.Fatalities'].str.split(')').str[0]\n",
    "df['Num.Fatalities'] = pd.to_numeric(df['Num.Fatalities'], errors='coerce').fillna(0).astype(int)\n",
    "df.insert(14, 'Num.Fatalities', df.pop('Num.Fatalities'))\n",
    "df['Num.Fatalities'].value_counts()"
   ]
  },
  {
   "cell_type": "code",
   "execution_count": 143,
   "metadata": {},
   "outputs": [
    {
     "data": {
      "text/plain": [
       "non-fatal    17469\n",
       "fatal         3174\n",
       "incident       164\n",
       "minor          138\n",
       "serious         95\n",
       "Name: Injury.Severity, dtype: int64"
      ]
     },
     "execution_count": 143,
     "metadata": {},
     "output_type": "execute_result"
    }
   ],
   "source": [
    "# Update labeling in 'Injury.Severity' column, since we now have a different column that tracks total number of fatalities\n",
    "\n",
    "df['Injury.Severity'] = df['Injury.Severity'].str.split('(').str[0]\n",
    "df['Injury.Severity'].value_counts()"
   ]
  },
  {
   "cell_type": "code",
   "execution_count": 144,
   "metadata": {},
   "outputs": [],
   "source": [
    "# Move other injury columns next to Injury.Severity\n",
    "df.insert(15, 'Total.Fatal.Injuries', df.pop('Total.Fatal.Injuries'))\n",
    "df.insert(16, 'Total.Serious.Injuries', df.pop('Total.Serious.Injuries'))\n",
    "df.insert(17, 'Total.Minor.Injuries', df.pop('Total.Minor.Injuries'))\n",
    "df.insert(18, 'Total.Uninjured', df.pop('Total.Uninjured'))"
   ]
  },
  {
   "cell_type": "markdown",
   "metadata": {},
   "source": [
    "### Damage Severity Score\n",
    "\n",
    "Making a 'DS.Score' column that takes the 'Aircraft.damage' column and reassigns each category a number:\n",
    "\n",
    "    - 'destroyed' -> 2\n",
    "    - 'substantial' -> 1\n",
    "    - 'minor' -> 0\n",
    "    \n",
    "For the time being, 'unknown' is left as such."
   ]
  },
  {
   "cell_type": "code",
   "execution_count": 145,
   "metadata": {},
   "outputs": [],
   "source": [
    "# Make a DS.Score based on the 'Aircraft.Damage' column\n",
    "\n",
    "df['DS.Score'] = df['Aircraft.Damage'].replace({\n",
    "    'destroyed': 2,\n",
    "    'substantial': 1,\n",
    "    'minor': 0,\n",
    "})\n",
    "df['DS.Score'].value_counts()\n",
    "\n",
    "df.insert(20, 'DS.Score', df.pop('DS.Score'))"
   ]
  },
  {
   "cell_type": "markdown",
   "metadata": {},
   "source": [
    "# Save cleaned .csv"
   ]
  },
  {
   "cell_type": "code",
   "execution_count": 146,
   "metadata": {},
   "outputs": [
    {
     "name": "stdout",
     "output_type": "stream",
     "text": [
      "<class 'pandas.core.frame.DataFrame'>\n",
      "Int64Index: 21121 entries, 5 to 82245\n",
      "Data columns (total 35 columns):\n",
      " #   Column                  Non-Null Count  Dtype         \n",
      "---  ------                  --------------  -----         \n",
      " 0   Event.ID                21121 non-null  object        \n",
      " 1   Investigation.Type      21121 non-null  object        \n",
      " 2   Accident.Number         21121 non-null  object        \n",
      " 3   Event.Date              21121 non-null  datetime64[ns]\n",
      " 4   Year                    21121 non-null  int64         \n",
      " 5   Location                21121 non-null  object        \n",
      " 6   State.Code              21121 non-null  object        \n",
      " 7   State.Name              21065 non-null  object        \n",
      " 8   Region                  21065 non-null  object        \n",
      " 9   Latitude                17946 non-null  object        \n",
      " 10  Longitude               17939 non-null  object        \n",
      " 11  Airport.Code            14817 non-null  object        \n",
      " 12  Airport.Name            15226 non-null  object        \n",
      " 13  Injury.Severity         21040 non-null  object        \n",
      " 14  Num.Fatalities          21121 non-null  int64         \n",
      " 15  Total.Fatal.Injuries    18536 non-null  float64       \n",
      " 16  Total.Serious.Injuries  18528 non-null  float64       \n",
      " 17  Total.Minor.Injuries    18814 non-null  float64       \n",
      " 18  Total.Uninjured         20563 non-null  float64       \n",
      " 19  Aircraft.Damage         20642 non-null  object        \n",
      " 20  DS.Score                20642 non-null  object        \n",
      " 21  Registration.Number     21114 non-null  object        \n",
      " 22  Make                    21121 non-null  object        \n",
      " 23  Model                   21115 non-null  object        \n",
      " 24  Number.of.Engines       20637 non-null  float64       \n",
      " 25  Engine.Type             19468 non-null  object        \n",
      " 26  FAR.Description         21119 non-null  object        \n",
      " 27  Schedule                1961 non-null   object        \n",
      " 28  Purpose.of.Flight       19893 non-null  object        \n",
      " 29  Purpose.Binned          19893 non-null  object        \n",
      " 30  Air.Carrier             8842 non-null   object        \n",
      " 31  Weather.Condition       20693 non-null  object        \n",
      " 32  Broad.Phase.of.Flight   5773 non-null   object        \n",
      " 33  Report.Status           19197 non-null  object        \n",
      " 34  Publication.Date        20872 non-null  object        \n",
      "dtypes: datetime64[ns](1), float64(5), int64(2), object(27)\n",
      "memory usage: 5.8+ MB\n"
     ]
    }
   ],
   "source": [
    "df.info()"
   ]
  },
  {
   "cell_type": "code",
   "execution_count": 147,
   "metadata": {},
   "outputs": [],
   "source": [
    "# Save cleaned df to a new csv file\n",
    "# df.to_csv('../data/AviationData_cleaned.csv', index=False)"
   ]
  },
  {
   "cell_type": "code",
   "execution_count": null,
   "metadata": {},
   "outputs": [],
   "source": []
  },
  {
   "cell_type": "code",
   "execution_count": null,
   "metadata": {},
   "outputs": [],
   "source": []
  }
 ],
 "metadata": {
  "kernelspec": {
   "display_name": "learn-env",
   "language": "python",
   "name": "python3"
  },
  "language_info": {
   "codemirror_mode": {
    "name": "ipython",
    "version": 3
   },
   "file_extension": ".py",
   "mimetype": "text/x-python",
   "name": "python",
   "nbconvert_exporter": "python",
   "pygments_lexer": "ipython3",
   "version": "3.8.5"
  }
 },
 "nbformat": 4,
 "nbformat_minor": 2
}
