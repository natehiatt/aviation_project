{
 "cells": [
  {
   "cell_type": "code",
   "execution_count": 1,
   "metadata": {},
   "outputs": [],
   "source": [
    "import pandas as pd\n",
    "import numpy as np\n",
    "import matplotlib.pyplot as plt"
   ]
  },
  {
   "cell_type": "code",
   "execution_count": 2,
   "metadata": {},
   "outputs": [
    {
     "name": "stderr",
     "output_type": "stream",
     "text": [
      "c:\\Users\\nateh\\anaconda3\\envs\\learn-env\\lib\\site-packages\\IPython\\core\\interactiveshell.py:3145: DtypeWarning: Columns (6,7,28) have mixed types.Specify dtype option on import or set low_memory=False.\n",
      "  has_raised = await self.run_ast_nodes(code_ast.body, cell_name,\n"
     ]
    }
   ],
   "source": [
    "#Import the data\n",
    "df = pd.read_csv('../data/AviationData.csv', encoding='latin-1')\n",
    "state_codes = pd.read_csv('../data/USState_Codes.csv')"
   ]
  },
  {
   "cell_type": "code",
   "execution_count": 3,
   "metadata": {},
   "outputs": [
    {
     "name": "stdout",
     "output_type": "stream",
     "text": [
      "<class 'pandas.core.frame.DataFrame'>\n",
      "Int64Index: 80312 entries, 0 to 88888\n",
      "Data columns (total 32 columns):\n",
      " #   Column                  Non-Null Count  Dtype         \n",
      "---  ------                  --------------  -----         \n",
      " 0   Event.ID                80312 non-null  object        \n",
      " 1   Investigation.Type      80312 non-null  object        \n",
      " 2   Accident.Number         80312 non-null  object        \n",
      " 3   Event.Date              80312 non-null  datetime64[ns]\n",
      " 4   Location                80265 non-null  object        \n",
      " 5   Country                 80092 non-null  object        \n",
      " 6   Latitude                30170 non-null  object        \n",
      " 7   Longitude               30164 non-null  object        \n",
      " 8   Airport.Code            45073 non-null  object        \n",
      " 9   Airport.Name            47400 non-null  object        \n",
      " 10  Injury.Severity         79313 non-null  object        \n",
      " 11  Aircraft.Damage         77165 non-null  object        \n",
      " 12  Aircraft.Category       28721 non-null  object        \n",
      " 13  Registration.Number     79101 non-null  object        \n",
      " 14  Make                    80266 non-null  object        \n",
      " 15  Model                   80245 non-null  object        \n",
      " 16  Amateur.Built           80312 non-null  object        \n",
      " 17  Number.of.Engines       74606 non-null  float64       \n",
      " 18  Engine.Type             73648 non-null  object        \n",
      " 19  FAR.Description         28476 non-null  object        \n",
      " 20  Schedule                12275 non-null  object        \n",
      " 21  Purpose.of.Flight       74242 non-null  object        \n",
      " 22  Air.Carrier             15652 non-null  object        \n",
      " 23  Total.Fatal.Injuries    70155 non-null  float64       \n",
      " 24  Total.Serious.Injuries  69228 non-null  float64       \n",
      " 25  Total.Minor.Injuries    69755 non-null  float64       \n",
      " 26  Total.Uninjured         75425 non-null  float64       \n",
      " 27  Weather.Condition       75960 non-null  object        \n",
      " 28  Broad.Phase.of.Flight   56146 non-null  object        \n",
      " 29  Report.Status           74279 non-null  object        \n",
      " 30  Publication.Date        67468 non-null  object        \n",
      " 31  Year                    80312 non-null  int64         \n",
      "dtypes: datetime64[ns](1), float64(5), int64(1), object(25)\n",
      "memory usage: 20.2+ MB\n"
     ]
    }
   ],
   "source": [
    "# Change the date column to a datetime object\n",
    "df['Event.Date'] = pd.to_datetime(df['Event.Date'])\n",
    "#Creating a column for the year\n",
    "df['Year'] = df['Event.Date'].dt.year\n",
    "#Making everything in the df lowercase so we can get more accurate counts.\n",
    "df = df.applymap(lambda x: x.lower() if type(x) == str else x)\n",
    "# Filtering out 'Amateur.Built' aircraft\n",
    "df = df[df['Amateur.Built'] == 'no']\n",
    "\n",
    "df.info()"
   ]
  },
  {
   "cell_type": "code",
   "execution_count": 4,
   "metadata": {},
   "outputs": [
    {
     "data": {
      "text/plain": [
       "<AxesSubplot:>"
      ]
     },
     "execution_count": 4,
     "metadata": {},
     "output_type": "execute_result"
    },
    {
     "data": {
      "image/png": "[encoded data removed]",
      "text/plain": [
       "<Figure size 1080x360 with 1 Axes>"
      ]
     },
     "metadata": {
      "needs_background": "light"
     },
     "output_type": "display_data"
    }
   ],
   "source": [
    "# One interesting thing to note here is the different in the number of entries per year.\n",
    "# Here it is *before* we filter out non-airplane incidents.\n",
    "df['Year'].value_counts().sort_index().plot(kind='bar', figsize=(15, 5))"
   ]
  },
  {
   "cell_type": "code",
   "execution_count": 5,
   "metadata": {},
   "outputs": [
    {
     "data": {
      "text/plain": [
       "<AxesSubplot:>"
      ]
     },
     "execution_count": 5,
     "metadata": {},
     "output_type": "execute_result"
    },
    {
     "data": {
      "image/png": "[encoded data removed]",
      "text/plain": [
       "<Figure size 1080x360 with 1 Axes>"
      ]
     },
     "metadata": {
      "needs_background": "light"
     },
     "output_type": "display_data"
    }
   ],
   "source": [
    "# We can see that the airplane-related incidents and the non-airplane-related incidents are mirror\n",
    "# images of each other.\n",
    "df_notplanes = df[df['Aircraft.Category'] != 'airplane']\n",
    "df_notplanes['Year'].value_counts().sort_index().plot(kind='bar', figsize=(15, 5))"
   ]
  },
  {
   "cell_type": "code",
   "execution_count": 6,
   "metadata": {},
   "outputs": [
    {
     "data": {
      "text/plain": [
       "<AxesSubplot:>"
      ]
     },
     "execution_count": 6,
     "metadata": {},
     "output_type": "execute_result"
    },
    {
     "data": {
      "image/png": "[encoded data removed]",
      "text/plain": [
       "<Figure size 1080x360 with 1 Axes>"
      ]
     },
     "metadata": {
      "needs_background": "light"
     },
     "output_type": "display_data"
    }
   ],
   "source": [
    "# Filtering out non-airplane incidents\n",
    "# Keep 'airplane' from the 'Aircraft.Category' column\n",
    "df = df[df['Aircraft.Category'] == 'airplane']\n",
    "# And now regraph after the filtering:\n",
    "df['Year'].value_counts().sort_index().plot(kind='bar', figsize=(15, 5))"
   ]
  },
  {
   "cell_type": "markdown",
   "metadata": {},
   "source": [
    "# Geographic Filtering"
   ]
  },
  {
   "cell_type": "code",
   "execution_count": 7,
   "metadata": {},
   "outputs": [
    {
     "data": {
      "text/plain": [
       "CA    2009\n",
       "TX    1700\n",
       "AK    1590\n",
       "FL    1498\n",
       "AZ     785\n",
       "CO     643\n",
       "GA     629\n",
       "WA     603\n",
       "IL     490\n",
       "NY     487\n",
       "NC     480\n",
       "MI     467\n",
       "ID     456\n",
       "OH     448\n",
       "OR     434\n",
       "PA     433\n",
       "MO     389\n",
       "AR     375\n",
       "WI     363\n",
       "VA     363\n",
       "MN     356\n",
       "UT     336\n",
       "IN     320\n",
       "NV     316\n",
       "OK     311\n",
       "MT     304\n",
       "KS     304\n",
       "AL     302\n",
       "NM     301\n",
       "NJ     299\n",
       "TN     294\n",
       "LA     290\n",
       "SC     268\n",
       "MD     235\n",
       "MA     219\n",
       "IA     216\n",
       "MS     203\n",
       "NE     194\n",
       "WY     185\n",
       "KY     165\n",
       "ND     148\n",
       "ME     147\n",
       "SD     129\n",
       "CT     123\n",
       "HI      91\n",
       "WV      89\n",
       "NH      83\n",
       "VT      53\n",
       "PR      48\n",
       "        43\n",
       "RI      41\n",
       "DE      24\n",
       "OF      13\n",
       "AO      11\n",
       "PO       8\n",
       "DC       6\n",
       "GU       2\n",
       "GM       1\n",
       "VI       1\n",
       "Name: State, dtype: int64"
      ]
     },
     "execution_count": 7,
     "metadata": {},
     "output_type": "execute_result"
    }
   ],
   "source": [
    "# Only using US incidents\n",
    "df = df[df['Country'] == 'united states']\n",
    "\n",
    "# pull state info from locations\n",
    "df['State'] = df['Location'].str.split(',').str[-1].str.strip().str.upper()\n",
    "df['State'].value_counts()"
   ]
  },
  {
   "cell_type": "code",
   "execution_count": 8,
   "metadata": {},
   "outputs": [],
   "source": [
    "# Merge state names to abbreviated codes\n",
    "df = pd.merge(df, state_codes, how='left', left_on='State', right_on='Abbreviation')\n",
    "df = df.drop(['Abbreviation'], 1)\n",
    "df = df.rename(columns={'State':'State.Code','US_State':\"State.Name\"})\n"
   ]
  },
  {
   "cell_type": "markdown",
   "metadata": {},
   "source": [
    "# FAR Codes & Purpose of Flight"
   ]
  },
  {
   "cell_type": "code",
   "execution_count": 9,
   "metadata": {},
   "outputs": [
    {
     "data": {
      "text/plain": [
       "part 91     18388\n",
       "part 137     1099\n",
       "part 135      756\n",
       "part 121      632\n",
       "public        134\n",
       "part 129       59\n",
       "nusc           12\n",
       "unknown        10\n",
       "nusn           10\n",
       "part 125        8\n",
       "unk             7\n",
       "part 133        2\n",
       "armf            2\n",
       "Name: FAR.Description, dtype: int64"
      ]
     },
     "execution_count": 9,
     "metadata": {},
     "output_type": "execute_result"
    }
   ],
   "source": [
    "# Cleaning up the FAR.Description column using a .replace() \n",
    "# See here for more info on FAR: \n",
    "# https://pilotinstitute.com/part-91-vs-121-vs-135/\n",
    "\n",
    "df['FAR.Description'] = df['FAR.Description'].replace({\n",
    "    '091': 'part 91',\n",
    "    'part 91: general aviation': 'part 91',\n",
    "    '137': 'part 137',\n",
    "    '135': 'part 135',\n",
    "    '121': 'part 121',\n",
    "    'part 137: agricultural': 'part 137',\n",
    "    'part 135: air taxi & commuter': 'part 135',\n",
    "    '129': 'part 129',\n",
    "    'part 121: air carrier': 'part 121',\n",
    "    '133': 'part 133',\n",
    "    'part 129: foreign': 'part 129',\n",
    "    'part 133: rotorcraft external load': 'part 133',\n",
    "    'part 133: rotorcraft ext. load': 'part 133',\n",
    "    '125' : 'part 125',\n",
    "    'part 125: 20+ pax,6000+ lbs': 'part 125',\n",
    "    '107': 'part 107',\n",
    "    '103': 'part 103',\n",
    "    '437': 'part 437',\n",
    "    'part91f': 'part 91',\n",
    "    'part 91 subpart f': 'part 91',\n",
    "    'part 91f: special flt ops.': 'part 91',\n",
    "    'part 91 subpart k: fractional': 'part 91',\n",
    "    '091k': 'part 91',\n",
    "    'pubu': 'public',\n",
    "    'public use': 'public',\n",
    "    'public aircraft': 'public',\n",
    "    'armed forces': 'armf',\n",
    "}\n",
    ")\n",
    "\n",
    "df['FAR.Description'].value_counts()"
   ]
  },
  {
   "cell_type": "code",
   "execution_count": 10,
   "metadata": {},
   "outputs": [
    {
     "data": {
      "text/plain": [
       "personal                     13042\n",
       "instructional                 3059\n",
       "aerial application            1014\n",
       "business                       723\n",
       "unknown                        551\n",
       "positioning                    337\n",
       "skydiving                      158\n",
       "aerial observation             154\n",
       "ferry                          148\n",
       "other work use                 142\n",
       "executive/corporate            138\n",
       "flight test                    114\n",
       "banner tow                      89\n",
       "public aircraft - federal       48\n",
       "air race show                   39\n",
       "public aircraft                 38\n",
       "glider tow                      34\n",
       "public aircraft - state         24\n",
       "firefighting                    14\n",
       "public aircraft - local         12\n",
       "asho                             5\n",
       "air race/show                    4\n",
       "pubs                             3\n",
       "air drop                         3\n",
       "Name: Purpose.of.Flight, dtype: int64"
      ]
     },
     "execution_count": 10,
     "metadata": {},
     "output_type": "execute_result"
    }
   ],
   "source": [
    "df['Purpose.of.Flight'].value_counts()"
   ]
  },
  {
   "cell_type": "code",
   "execution_count": 11,
   "metadata": {},
   "outputs": [
    {
     "data": {
      "text/plain": [
       "personal              13042\n",
       "instructional          3173\n",
       "business               1971\n",
       "unknown                 551\n",
       "positioning             337\n",
       "small transport         286\n",
       "aerial observation      155\n",
       "public                  139\n",
       "Name: purpose_binned, dtype: int64"
      ]
     },
     "execution_count": 11,
     "metadata": {},
     "output_type": "execute_result"
    }
   ],
   "source": [
    "#Now grouping the 'Purpose.of.flight' category into more general categories\n",
    "\n",
    "df['purpose_binned'] = df['Purpose.of.flight'].replace(['public aircraft', 'public aircraft - federal', 'public aircraft - state', 'public aircraft - local', 'public aircraft - u.s. govt.'], 'public')\n",
    "# Grouping 'aerial application', 'business', 'other work use', 'banner tow', 'skydiving', 'glider tow', 'air drop' into 'business'\n",
    "df['purpose_binned'] = df['purpose_binned'].replace(['aerial application', 'business', 'other work use', 'banner tow', 'skydiving', 'glider tow', 'air drop'], 'business')\n",
    "# Grouping 'executive/corporate', 'ferry' into 'small transport'.\n",
    "df['purpose_binned'] = df['purpose_binned'].replace(['executive/corporate', 'ferry'], 'small transport')\n",
    "# Adding more into the public category\n",
    "df['purpose_binned'] = df['purpose_binned'].replace(['pubs', 'public', 'publ', 'firefighting'], 'public')\n",
    "# Adding 'flight test' to 'instructional\n",
    "df['purpose_binned'] = df['purpose_binned'].replace(['flight test'], 'instructional')\n",
    "# Grouping air show categories\n",
    "df['purpose_binned'] = df['purpose_binned'].replace(['air race show', 'air race/show', 'asho', 'air show'])\n",
    "\n",
    "df['purpose_binned'].value_counts()"
   ]
  },
  {
   "cell_type": "markdown",
   "metadata": {},
   "source": [
    "## Filtering the 'Make' series\n"
   ]
  },
  {
   "cell_type": "code",
   "execution_count": 12,
   "metadata": {},
   "outputs": [
    {
     "data": {
      "text/plain": [
       "cessna                            7697\n",
       "piper                             4322\n",
       "beech                             1522\n",
       "boeing                             456\n",
       "mooney                             391\n",
       "                                  ... \n",
       "north american/victoria mnt lt       1\n",
       "williams yakovlev                    1\n",
       "greene r/greene s                    1\n",
       "leach michael                        1\n",
       "indy aircraft ltd                    1\n",
       "Name: Make, Length: 1015, dtype: int64"
      ]
     },
     "execution_count": 12,
     "metadata": {},
     "output_type": "execute_result"
    }
   ],
   "source": [
    "# Checking out the raw 'Make' values\n",
    "df['Make'].value_counts()"
   ]
  },
  {
   "cell_type": "code",
   "execution_count": 13,
   "metadata": {},
   "outputs": [
    {
     "name": "stdout",
     "output_type": "stream",
     "text": [
      "['cessna', 'cessna aircraft co', 'cessna/air repair inc', 'cessna/weaver', 'cessna ector', 'cessna aircraft', 'cessna aircraft co.']\n",
      "['grumman', 'grumman american', 'grumman-schweizer', 'grumman american avn. corp.', 'grumman american aviation', 'grumman acft eng', 'grumman acft eng cor-schweizer', 'grumman aircraft eng corp', 'grumman american aviation corp', 'grumman aircraft', 'grumman schweizer', 'grumman acft eng cor', 'grumman aircraft cor-schweizer', 'grumman american avn. corp']\n",
      "['de havilland', 'dehavilland', 'dehavilland canada']\n",
      "['cirrus design corp.', 'cirrus', 'cirrus design', 'cirrus design corp', 'cirrus design corporation']\n",
      "['piper', 'piper-aerostar', 'piper aircraft', 'piper/cub crafters', 'piper cub crafters', 'piper aerostar', 'new piper aircraft inc', 'piper aircraft inc', 'jetprop dlx piper', \"piper/wally's flyers inc\", 'piper aircraft, inc.', 'new piper', 'piper / laudeman', 'piper-harris', 'piper aircraft corporation']\n",
      "['boeing', 'boeing stearman', 'boeing of canada/dehav div', 'boeing-stearman', 'boeing company, long beach div', 'boeing company', 'boeing (stearman)']\n",
      "['mooney', 'mooney aircraft corp', 'mooney aircraft corp.', 'mooney airplane co inc', 'mooney airplane company, inc.', 'mooney international corp']\n",
      "['air tractor', 'air tractor inc.', 'air tractor inc', 'air tractor, inc.']\n"
     ]
    }
   ],
   "source": [
    "\n",
    "# Make a list of all the entries that have \"cessna\" in them and return their strings in a list\n",
    "cessna_list = df[df['Make'].str.contains('cessna')]['Make'].unique().tolist()\n",
    "\n",
    "#Do the same with the other big makes\n",
    "grumman_list = df[df['Make'].str.contains('grumman')]['Make'].unique().tolist()\n",
    "dehavilland_list = df[df['Make'].str.contains('havilland')]['Make'].unique().tolist()\n",
    "cirrus_list = df[df['Make'].str.contains('cirrus')]['Make'].unique().tolist()\n",
    "piper_list = df[df['Make'].str.contains('piper')]['Make'].unique().tolist()\n",
    "boeing_list = df[df['Make'].str.contains('boeing')]['Make'].unique().tolist()\n",
    "mooney_list = df[df['Make'].str.contains('mooney')]['Make'].unique().tolist()\n",
    "airtractor_list = df[df['Make'].str.contains('air tractor')]['Make'].unique().tolist()\n",
    "\n",
    "print(cessna_list)\n",
    "print(grumman_list)\n",
    "print(dehavilland_list)\n",
    "print(cirrus_list)\n",
    "print(piper_list)\n",
    "print(boeing_list)\n",
    "print(mooney_list)\n",
    "print(airtractor_list)"
   ]
  },
  {
   "cell_type": "code",
   "execution_count": 14,
   "metadata": {},
   "outputs": [
    {
     "data": {
      "text/plain": [
       "cessna                            7730\n",
       "piper                             4368\n",
       "beech                             1522\n",
       "boeing                             456\n",
       "mooney                             437\n",
       "                                  ... \n",
       "hamilton                             1\n",
       "north american/victoria mnt lt       1\n",
       "williams yakovlev                    1\n",
       "greene r/greene s                    1\n",
       "indy aircraft ltd                    1\n",
       "Name: Make, Length: 968, dtype: int64"
      ]
     },
     "execution_count": 14,
     "metadata": {},
     "output_type": "execute_result"
    }
   ],
   "source": [
    "df['Make'] = df['Make'].replace(cessna_list, 'cessna')\n",
    "df['Make'] = df['Make'].replace(grumman_list, 'grumman')\n",
    "df['Make'] = df['Make'].replace(dehavilland_list, 'dehavilland')\n",
    "df['Make'] = df['Make'].replace(cirrus_list, 'cirrus')\n",
    "df['Make'] = df['Make'].replace(piper_list, 'piper')\n",
    "df['Make'] = df['Make'].replace(mooney_list, 'mooney')\n",
    "df['Make'] = df['Make'].replace(airtractor_list, 'airtractor')\n",
    "\n",
    "# And we can now see the totals, with slightly different numbers than before.\n",
    "df['Make'].value_counts()"
   ]
  },
  {
   "cell_type": "code",
   "execution_count": 15,
   "metadata": {},
   "outputs": [
    {
     "data": {
      "text/plain": [
       "cessna                       7730\n",
       "piper                        4368\n",
       "beech                        1522\n",
       "boeing                        456\n",
       "mooney                        437\n",
       "airtractor                    414\n",
       "grumman                       409\n",
       "cirrus                        330\n",
       "bellanca                      279\n",
       "aeronca                       226\n",
       "maule                         225\n",
       "dehavilland                   165\n",
       "champion                      164\n",
       "luscombe                      162\n",
       "stinson                       145\n",
       "north american                114\n",
       "taylorcraft                   109\n",
       "aero commander                 95\n",
       "embraer                        85\n",
       "airbus                         80\n",
       "aviat aircraft inc             76\n",
       "diamond aircraft ind inc       73\n",
       "aviat                          68\n",
       "ercoupe                        66\n",
       "raytheon aircraft company      61\n",
       "Name: Make, dtype: int64"
      ]
     },
     "execution_count": 15,
     "metadata": {},
     "output_type": "execute_result"
    }
   ],
   "source": [
    "# Making a new df that only accepts the top 25 makes:\n",
    "top_makes = df['Make'].value_counts().head(25).index.tolist()\n",
    "top_makes_df = df[df['Make'].isin(top_makes)].copy()\n",
    "top_makes_df['Make'].value_counts()"
   ]
  },
  {
   "cell_type": "markdown",
   "metadata": {},
   "source": [
    "# Airports"
   ]
  },
  {
   "cell_type": "code",
   "execution_count": 16,
   "metadata": {},
   "outputs": [
    {
     "data": {
      "text/plain": [
       "private                           345\n",
       "none                               38\n",
       "merrill field                      34\n",
       "phoenix deer valley                25\n",
       "north perry                        23\n",
       "                                 ... \n",
       "california city municipal airp      1\n",
       "oshkosh                             1\n",
       "manitou field airport               1\n",
       "columbia owens downtown airpor      1\n",
       "gallatin                            1\n",
       "Name: Airport.Name, Length: 8558, dtype: int64"
      ]
     },
     "execution_count": 16,
     "metadata": {},
     "output_type": "execute_result"
    }
   ],
   "source": [
    "# Clean airport names\n",
    "\n",
    "df['Airport.Name'] = df['Airport.Name'].replace(['private airstrip', 'private strip', 'pvt'], 'private')\n",
    "df['Airport.Name'].value_counts()"
   ]
  },
  {
   "cell_type": "markdown",
   "metadata": {},
   "source": [
    "# Injury Severity"
   ]
  },
  {
   "cell_type": "code",
   "execution_count": 17,
   "metadata": {},
   "outputs": [
    {
     "data": {
      "text/plain": [
       "non-fatal    17469\n",
       "fatal         2442\n",
       "fatal(1)       308\n",
       "fatal(2)       221\n",
       "incident       164\n",
       "minor          138\n",
       "serious         95\n",
       "fatal(3)        75\n",
       "fatal(4)        60\n",
       "fatal(5)        22\n",
       "fatal(6)        14\n",
       "fatal(7)         9\n",
       "fatal(8)         7\n",
       "fatal(10)        4\n",
       "fatal(12)        3\n",
       "fatal(14)        1\n",
       "fatal(11)        1\n",
       "fatal(16)        1\n",
       "fatal(13)        1\n",
       "fatal(9)         1\n",
       "Name: Injury.Severity, dtype: int64"
      ]
     },
     "execution_count": 17,
     "metadata": {},
     "output_type": "execute_result"
    }
   ],
   "source": [
    "# Looking at the 'Injury.Severity' column\n",
    "# We see that it tells us how many people died in a given incident\n",
    "df['Injury.Severity'].value_counts().head(20)"
   ]
  },
  {
   "cell_type": "code",
   "execution_count": 18,
   "metadata": {},
   "outputs": [
    {
     "data": {
      "text/plain": [
       "0      20389\n",
       "1        308\n",
       "2        221\n",
       "3         75\n",
       "4         60\n",
       "5         22\n",
       "6         14\n",
       "7          9\n",
       "8          7\n",
       "10         4\n",
       "12         3\n",
       "9          1\n",
       "13         1\n",
       "228        1\n",
       "11         1\n",
       "27         1\n",
       "65         1\n",
       "17         1\n",
       "16         1\n",
       "14         1\n",
       "Name: Num.Fatalities, dtype: int64"
      ]
     },
     "execution_count": 18,
     "metadata": {},
     "output_type": "execute_result"
    }
   ],
   "source": [
    "# Split number from Fatal(#) to count number of fatalities\n",
    "# Create a new column tracking the number of these fatalities\n",
    "df['Num.Fatalities'] = df['Injury.Severity'].str.split('(').str[-1]\n",
    "df['Num.Fatalities'] = df['Num.Fatalities'].str.split(')').str[0]\n",
    "df['Num.Fatalities'] = pd.to_numeric(df['Num.Fatalities'], errors='coerce').fillna(0).astype(int)\n",
    "df['Num.Fatalities'].value_counts()"
   ]
  },
  {
   "cell_type": "markdown",
   "metadata": {},
   "source": [
    "# Injury Severity"
   ]
  },
  {
   "cell_type": "code",
   "execution_count": 19,
   "metadata": {},
   "outputs": [
    {
     "data": {
      "text/plain": [
       "non-fatal    17469\n",
       "fatal         3174\n",
       "incident       164\n",
       "minor          138\n",
       "serious         95\n",
       "Name: Injury.Severity, dtype: int64"
      ]
     },
     "execution_count": 19,
     "metadata": {},
     "output_type": "execute_result"
    }
   ],
   "source": [
    "# Update labeling in 'Injury.Severity' column, since we now have a different column that tracks total number of fatalities\n",
    "\n",
    "df['Injury.Severity'] = df['Injury.Severity'].str.split('(').str[0]\n",
    "df['Injury.Severity'].value_counts()"
   ]
  },
  {
   "cell_type": "markdown",
   "metadata": {},
   "source": [
    "# Damage Severity Score\n",
    "\n",
    "Making a 'DS.Score' column that takes the 'Aircraft.damage' column and reassigns each category a number:\n",
    "\n",
    "    - 'destroyed' -> 2\n",
    "    - 'substantial' -> 1\n",
    "    - 'minor' -> 0\n",
    "    \n",
    "For the time being, 'unknown' is left as such."
   ]
  },
  {
   "cell_type": "code",
   "execution_count": 21,
   "metadata": {},
   "outputs": [
    {
     "data": {
      "text/plain": [
       "1          17817\n",
       "2           2304\n",
       "0            481\n",
       "unknown       40\n",
       "Name: DS.Score, dtype: int64"
      ]
     },
     "execution_count": 21,
     "metadata": {},
     "output_type": "execute_result"
    }
   ],
   "source": [
    "# Make a DS.Score based on the 'Aircraft.damage' column\n",
    "\n",
    "df['DS.Score'] = df['Aircraft.Damage'].replace({\n",
    "    'destroyed': 2,\n",
    "    'substantial': 1,\n",
    "    'minor': 0,\n",
    "})\n",
    "df['DS.Score'].value_counts()"
   ]
  },
  {
   "cell_type": "markdown",
   "metadata": {},
   "source": [
    "# Weather"
   ]
  },
  {
   "cell_type": "code",
   "execution_count": null,
   "metadata": {},
   "outputs": [
    {
     "data": {
      "text/plain": [
       "VMC    19278\n",
       "IMC     1253\n",
       "UNK      162\n",
       "Name: Weather.Condition, dtype: int64"
      ]
     },
     "execution_count": 20,
     "metadata": {},
     "output_type": "execute_result"
    }
   ],
   "source": [
    "# Clean 'Weather.Condition'\n",
    "\n",
    "df['Weather.Condition'] = df['Weather.Condition'].str.upper()\n",
    "df['Weather.Condition'].value_counts()\n",
    "\n",
    "# VMC - Visual Meteorological Conditions - generally clear and good visibility; pilots can navigate and operate aircraft by visual reference to the ground\n",
    "# IMC - Instrument Meteorological Conditions - reduced visibility due to factors like fog, rain, or low clouds; pilots may need to rely on instruments for navigation and control\n",
    "# UNK - Unknown"
   ]
  },
  {
   "cell_type": "markdown",
   "metadata": {},
   "source": [
    "# Save cleaned .csv"
   ]
  },
  {
   "cell_type": "code",
   "execution_count": null,
   "metadata": {},
   "outputs": [],
   "source": [
    "#save cleaned df to a new csv file\n",
    "df.to_csv('../data/AviationData_cleaned.csv', index=False)"
   ]
  }
 ],
 "metadata": {
  "kernelspec": {
   "display_name": "learn-env",
   "language": "python",
   "name": "python3"
  },
  "language_info": {
   "codemirror_mode": {
    "name": "ipython",
    "version": 3
   },
   "file_extension": ".py",
   "mimetype": "text/x-python",
   "name": "python",
   "nbconvert_exporter": "python",
   "pygments_lexer": "ipython3",
   "version": "3.8.5"
  }
 },
 "nbformat": 4,
 "nbformat_minor": 2
}
