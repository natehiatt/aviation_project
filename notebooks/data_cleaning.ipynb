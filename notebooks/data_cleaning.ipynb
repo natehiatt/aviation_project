{
 "cells": [
  {
   "cell_type": "code",
   "execution_count": 23,
   "metadata": {},
   "outputs": [],
   "source": [
    "import pandas as pd\n",
    "import numpy as np\n",
    "import matplotlib.pyplot as plt"
   ]
  },
  {
   "cell_type": "code",
   "execution_count": 24,
   "metadata": {},
   "outputs": [
    {
     "name": "stderr",
     "output_type": "stream",
     "text": [
      "c:\\Users\\nateh\\anaconda3\\envs\\learn-env\\lib\\site-packages\\IPython\\core\\interactiveshell.py:3145: DtypeWarning: Columns (6,7,28) have mixed types.Specify dtype option on import or set low_memory=False.\n",
      "  has_raised = await self.run_ast_nodes(code_ast.body, cell_name,\n"
     ]
    }
   ],
   "source": [
    "#Import the data\n",
    "df = pd.read_csv('../data/AviationData.csv', encoding='latin-1')\n",
    "state_codes = pd.read_csv('../data/USState_Codes.csv')"
   ]
  },
  {
   "cell_type": "code",
   "execution_count": 25,
   "metadata": {},
   "outputs": [
    {
     "name": "stdout",
     "output_type": "stream",
     "text": [
      "<class 'pandas.core.frame.DataFrame'>\n",
      "Int64Index: 24417 entries, 5 to 88886\n",
      "Data columns (total 32 columns):\n",
      " #   Column                  Non-Null Count  Dtype         \n",
      "---  ------                  --------------  -----         \n",
      " 0   Event.Id                24417 non-null  object        \n",
      " 1   Investigation.Type      24417 non-null  object        \n",
      " 2   Accident.Number         24417 non-null  object        \n",
      " 3   Event.Date              24417 non-null  datetime64[ns]\n",
      " 4   Location                24411 non-null  object        \n",
      " 5   Country                 24410 non-null  object        \n",
      " 6   Latitude                19171 non-null  object        \n",
      " 7   Longitude               19165 non-null  object        \n",
      " 8   Airport.Code            15574 non-null  object        \n",
      " 9   Airport.Name            16012 non-null  object        \n",
      " 10  Injury.Severity         23604 non-null  object        \n",
      " 11  Aircraft.damage         23147 non-null  object        \n",
      " 12  Aircraft.Category       24417 non-null  object        \n",
      " 13  Registration.Number     24214 non-null  object        \n",
      " 14  Make                    24414 non-null  object        \n",
      " 15  Model                   24399 non-null  object        \n",
      " 16  Amateur.Built           24417 non-null  object        \n",
      " 17  Number.of.Engines       21866 non-null  float64       \n",
      " 18  Engine.Type             20461 non-null  object        \n",
      " 19  FAR.Description         23937 non-null  object        \n",
      " 20  Schedule                2936 non-null   object        \n",
      " 21  Purpose.of.flight       20734 non-null  object        \n",
      " 22  Air.carrier             10356 non-null  object        \n",
      " 23  Total.Fatal.Injuries    21651 non-null  float64       \n",
      " 24  Total.Serious.Injuries  21571 non-null  float64       \n",
      " 25  Total.Minor.Injuries    21855 non-null  float64       \n",
      " 26  Total.Uninjured         23699 non-null  float64       \n",
      " 27  Weather.Condition       21438 non-null  object        \n",
      " 28  Broad.phase.of.flight   5796 non-null   object        \n",
      " 29  Report.Status           19755 non-null  object        \n",
      " 30  Publication.Date        23460 non-null  object        \n",
      " 31  Year                    24417 non-null  int64         \n",
      "dtypes: datetime64[ns](1), float64(5), int64(1), object(25)\n",
      "memory usage: 6.1+ MB\n"
     ]
    }
   ],
   "source": [
    "# Change the date column to a datetime object\n",
    "df['Event.Date'] = pd.to_datetime(df['Event.Date'])\n",
    "#Creating a column for the year\n",
    "df['Year'] = df['Event.Date'].dt.year\n",
    "#Making everything in the df lowercase so we can get more accurate counts.\n",
    "df = df.applymap(lambda x: x.lower() if type(x) == str else x)\n",
    "# Filtering out 'Amateur.Built' aircraft\n",
    "df = df[df['Amateur.Built'] == 'no']\n",
    "# And only keep 'airplane' from the 'Aircraft.Category' column\n",
    "df = df[df['Aircraft.Category'] == 'airplane']\n",
    "df.info()"
   ]
  },
  {
   "cell_type": "code",
   "execution_count": 27,
   "metadata": {},
   "outputs": [
    {
     "data": {
      "text/plain": [
       "CA    2009\n",
       "TX    1700\n",
       "AK    1590\n",
       "FL    1498\n",
       "AZ     785\n",
       "CO     643\n",
       "GA     629\n",
       "WA     603\n",
       "IL     490\n",
       "NY     487\n",
       "NC     480\n",
       "MI     467\n",
       "ID     456\n",
       "OH     448\n",
       "OR     434\n",
       "PA     433\n",
       "MO     389\n",
       "AR     375\n",
       "WI     363\n",
       "VA     363\n",
       "MN     356\n",
       "UT     336\n",
       "IN     320\n",
       "NV     316\n",
       "OK     311\n",
       "KS     304\n",
       "MT     304\n",
       "AL     302\n",
       "NM     301\n",
       "NJ     299\n",
       "TN     294\n",
       "LA     290\n",
       "SC     268\n",
       "MD     235\n",
       "MA     219\n",
       "IA     216\n",
       "MS     203\n",
       "NE     194\n",
       "WY     185\n",
       "KY     165\n",
       "ND     148\n",
       "ME     147\n",
       "SD     129\n",
       "CT     123\n",
       "HI      91\n",
       "WV      89\n",
       "NH      83\n",
       "VT      53\n",
       "PR      48\n",
       "        43\n",
       "RI      41\n",
       "DE      24\n",
       "OF      13\n",
       "AO      11\n",
       "PO       8\n",
       "DC       6\n",
       "GU       2\n",
       "VI       1\n",
       "GM       1\n",
       "Name: State, dtype: int64"
      ]
     },
     "execution_count": 27,
     "metadata": {},
     "output_type": "execute_result"
    }
   ],
   "source": [
    "# Only using US incidents\n",
    "df = df[df['Country'] == 'united states']\n",
    "\n",
    "# pull state info from locations\n",
    "df['State'] = df['Location'].str.split(',').str[-1].str.strip().str.upper()\n",
    "df['State'].value_counts()"
   ]
  },
  {
   "cell_type": "code",
   "execution_count": 28,
   "metadata": {},
   "outputs": [
    {
     "data": {
      "text/plain": [
       "part 91     18388\n",
       "part 137     1099\n",
       "part 135      756\n",
       "part 121      632\n",
       "public        134\n",
       "part 129       59\n",
       "nusc           12\n",
       "unknown        10\n",
       "nusn           10\n",
       "part 125        8\n",
       "unk             7\n",
       "part 133        2\n",
       "armf            2\n",
       "Name: FAR.Description, dtype: int64"
      ]
     },
     "execution_count": 28,
     "metadata": {},
     "output_type": "execute_result"
    }
   ],
   "source": [
    "# Cleaning up the FAR.Description column using a .replace() \n",
    "# See here for more info on FAR: \n",
    "# https://pilotinstitute.com/part-91-vs-121-vs-135/\n",
    "\n",
    "df['FAR.Description'] = df['FAR.Description'].replace({\n",
    "    '091': 'part 91',\n",
    "    'part 91: general aviation': 'part 91',\n",
    "    '137': 'part 137',\n",
    "    '135': 'part 135',\n",
    "    '121': 'part 121',\n",
    "    'part 137: agricultural': 'part 137',\n",
    "    'part 135: air taxi & commuter': 'part 135',\n",
    "    '129': 'part 129',\n",
    "    'part 121: air carrier': 'part 121',\n",
    "    '133': 'part 133',\n",
    "    'part 129: foreign': 'part 129',\n",
    "    'part 133: rotorcraft external load': 'part 133',\n",
    "    'part 133: rotorcraft ext. load': 'part 133',\n",
    "    '125' : 'part 125',\n",
    "    'part 125: 20+ pax,6000+ lbs': 'part 125',\n",
    "    '107': 'part 107',\n",
    "    '103': 'part 103',\n",
    "    '437': 'part 437',\n",
    "    'part91f': 'part 91',\n",
    "    'part 91 subpart f': 'part 91',\n",
    "    'part 91f: special flt ops.': 'part 91',\n",
    "    'part 91 subpart k: fractional': 'part 91',\n",
    "    '091k': 'part 91',\n",
    "    'pubu': 'public',\n",
    "    'public use': 'public',\n",
    "    'public aircraft': 'public',\n",
    "    'armed forces': 'armf',\n",
    "}\n",
    ")\n",
    "\n",
    "df['FAR.Description'].value_counts()"
   ]
  },
  {
   "cell_type": "code",
   "execution_count": 29,
   "metadata": {},
   "outputs": [
    {
     "data": {
      "text/plain": [
       "personal              13078\n",
       "instructional          3179\n",
       "business               2167\n",
       "unknown                 551\n",
       "positioning             337\n",
       "small transport         286\n",
       "aerial observation      155\n",
       "public                  139\n",
       "Name: purpose_binned, dtype: int64"
      ]
     },
     "execution_count": 29,
     "metadata": {},
     "output_type": "execute_result"
    }
   ],
   "source": [
    "#Now grouping the 'Purpose.of.flight' category into more general categories\n",
    "\n",
    "df['purpose_binned'] = df['Purpose.of.flight'].replace(['public aircraft', 'public aircraft - federal', 'public aircraft - state', 'public aircraft - local', 'public aircraft - u.s. govt.'], 'public')\n",
    "# Grouping 'aerial application', 'business', 'other work use', 'banner tow', 'skydiving', 'glider tow', 'air drop' into 'business'\n",
    "df['purpose_binned'] = df['purpose_binned'].replace(['aerial application', 'business', 'other work use', 'banner tow', 'skydiving', 'glider tow', 'air drop'], 'business')\n",
    "# Grouping 'executive/corporate', 'ferry' into 'small transport'.\n",
    "df['purpose_binned'] = df['purpose_binned'].replace(['executive/corporate', 'ferry'], 'small transport')\n",
    "# Adding more into the public category\n",
    "df['purpose_binned'] = df['purpose_binned'].replace(['pubs', 'public', 'publ', 'firefighting'], 'public')\n",
    "# Adding 'flight test' to 'instructional\n",
    "df['purpose_binned'] = df['purpose_binned'].replace(['flight test'], 'instructional')\n",
    "# Grouping air show categories\n",
    "df['purpose_binned'] = df['purpose_binned'].replace(['air race show', 'air race/show', 'asho', 'air show'])\n",
    "\n",
    "df['purpose_binned'].value_counts()"
   ]
  },
  {
   "cell_type": "markdown",
   "metadata": {},
   "source": [
    "## Filtering the 'Make' series\n"
   ]
  },
  {
   "cell_type": "code",
   "execution_count": 32,
   "metadata": {},
   "outputs": [
    {
     "data": {
      "text/plain": [
       "cessna                          7697\n",
       "piper                           4322\n",
       "beech                           1522\n",
       "boeing                           456\n",
       "mooney                           391\n",
       "                                ... \n",
       "martin charles a                   1\n",
       "x-air llc                          1\n",
       "ploof progressive aerodyne's       1\n",
       "t bird                             1\n",
       "fernandes dale r                   1\n",
       "Name: Make, Length: 1015, dtype: int64"
      ]
     },
     "execution_count": 32,
     "metadata": {},
     "output_type": "execute_result"
    }
   ],
   "source": [
    "# Checking out the raw 'Make' values\n",
    "df['Make'].value_counts()"
   ]
  },
  {
   "cell_type": "code",
   "execution_count": 31,
   "metadata": {},
   "outputs": [
    {
     "name": "stdout",
     "output_type": "stream",
     "text": [
      "['cessna', 'cessna aircraft co', 'cessna/air repair inc', 'cessna/weaver', 'cessna ector', 'cessna aircraft', 'cessna aircraft co.']\n",
      "['grumman', 'grumman american', 'grumman-schweizer', 'grumman american avn. corp.', 'grumman american aviation', 'grumman acft eng', 'grumman acft eng cor-schweizer', 'grumman aircraft eng corp', 'grumman american aviation corp', 'grumman aircraft', 'grumman schweizer', 'grumman acft eng cor', 'grumman aircraft cor-schweizer', 'grumman american avn. corp']\n",
      "['de havilland', 'dehavilland', 'dehavilland canada']\n",
      "['cirrus design corp.', 'cirrus', 'cirrus design', 'cirrus design corp', 'cirrus design corporation']\n",
      "['piper', 'piper-aerostar', 'piper aircraft', 'piper/cub crafters', 'piper cub crafters', 'piper aerostar', 'new piper aircraft inc', 'piper aircraft inc', 'jetprop dlx piper', \"piper/wally's flyers inc\", 'piper aircraft, inc.', 'new piper', 'piper / laudeman', 'piper-harris', 'piper aircraft corporation']\n",
      "['boeing', 'boeing stearman', 'boeing of canada/dehav div', 'boeing-stearman', 'boeing company, long beach div', 'boeing company', 'boeing (stearman)']\n",
      "['mooney', 'mooney aircraft corp', 'mooney aircraft corp.', 'mooney airplane co inc', 'mooney airplane company, inc.', 'mooney international corp']\n",
      "['air tractor', 'air tractor inc.', 'air tractor inc', 'air tractor, inc.']\n"
     ]
    }
   ],
   "source": [
    "\n",
    "# Make a list of all the entries that have \"cessna\" in them and return their strings in a list\n",
    "cessna_list = df[df['Make'].str.contains('cessna')]['Make'].unique().tolist()\n",
    "\n",
    "#Do the same with the other big makes\n",
    "grumman_list = df[df['Make'].str.contains('grumman')]['Make'].unique().tolist()\n",
    "dehavilland_list = df[df['Make'].str.contains('havilland')]['Make'].unique().tolist()\n",
    "cirrus_list = df[df['Make'].str.contains('cirrus')]['Make'].unique().tolist()\n",
    "piper_list = df[df['Make'].str.contains('piper')]['Make'].unique().tolist()\n",
    "boeing_list = df[df['Make'].str.contains('boeing')]['Make'].unique().tolist()\n",
    "mooney_list = df[df['Make'].str.contains('mooney')]['Make'].unique().tolist()\n",
    "airtractor_list = df[df['Make'].str.contains('air tractor')]['Make'].unique().tolist()\n",
    "\n",
    "print(cessna_list)\n",
    "print(grumman_list)\n",
    "print(dehavilland_list)\n",
    "print(cirrus_list)\n",
    "print(piper_list)\n",
    "print(boeing_list)\n",
    "print(mooney_list)\n",
    "print(airtractor_list)"
   ]
  },
  {
   "cell_type": "code",
   "execution_count": 34,
   "metadata": {},
   "outputs": [
    {
     "data": {
      "text/plain": [
       "cessna                            7730\n",
       "piper                             4368\n",
       "beech                             1522\n",
       "boeing                             456\n",
       "mooney                             437\n",
       "                                  ... \n",
       "siler ronald e                       1\n",
       "javron                               1\n",
       "american champion aircraft cor       1\n",
       "continental                          1\n",
       "fernandes dale r                     1\n",
       "Name: Make, Length: 968, dtype: int64"
      ]
     },
     "execution_count": 34,
     "metadata": {},
     "output_type": "execute_result"
    }
   ],
   "source": [
    "df['Make'] = df['Make'].replace(cessna_list, 'cessna')\n",
    "df['Make'] = df['Make'].replace(grumman_list, 'grumman')\n",
    "df['Make'] = df['Make'].replace(dehavilland_list, 'dehavilland')\n",
    "df['Make'] = df['Make'].replace(cirrus_list, 'cirrus')\n",
    "df['Make'] = df['Make'].replace(piper_list, 'piper')\n",
    "df['Make'] = df['Make'].replace(mooney_list, 'mooney')\n",
    "df['Make'] = df['Make'].replace(airtractor_list, 'airtractor')\n",
    "\n",
    "# And we can now see the totals, with slightly different numbers than before.\n",
    "df['Make'].value_counts()"
   ]
  }
 ],
 "metadata": {
  "kernelspec": {
   "display_name": "learn-env",
   "language": "python",
   "name": "python3"
  },
  "language_info": {
   "codemirror_mode": {
    "name": "ipython",
    "version": 3
   },
   "file_extension": ".py",
   "mimetype": "text/x-python",
   "name": "python",
   "nbconvert_exporter": "python",
   "pygments_lexer": "ipython3",
   "version": "3.8.5"
  }
 },
 "nbformat": 4,
 "nbformat_minor": 2
}
