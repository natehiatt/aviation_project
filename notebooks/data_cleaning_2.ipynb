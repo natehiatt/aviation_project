{
 "cells": [
  {
   "cell_type": "code",
   "execution_count": null,
   "metadata": {},
   "outputs": [],
   "source": [
    "import pandas as pd\n",
    "import numpy as np\n",
    "import matplotlib.pyplot as plt"
   ]
  },
  {
   "cell_type": "code",
   "execution_count": null,
   "metadata": {},
   "outputs": [],
   "source": [
    "# Import the data\n",
    "df = pd.read_csv('../data/AviationData.csv', encoding='latin-1')\n",
    "state_codes = pd.read_csv('../data/USState_Codes.csv')"
   ]
  },
  {
   "cell_type": "code",
   "execution_count": null,
   "metadata": {},
   "outputs": [],
   "source": [
    "# Change the date column to a datetime object\n",
    "df['Event.Date'] = pd.to_datetime(df['Event.Date'])\n",
    "# Creating a column for the year\n",
    "df['Year'] = df['Event.Date'].dt.year\n",
    "\n",
    "# Making everything in the df lowercase so we can get more accurate counts\n",
    "df = df.applymap(lambda x: x.lower() if type(x) == str else x)\n",
    "# Renaming columns in titlecase (aesthetic purposes only)\n",
    "df = df.rename(columns={'Event.Id':'Event.ID','Aircraft.damage':'Aircraft.Damage','Purpose.of.flight':'Purpose.of.Flight','Air.carrier':'Air.Carrier','Broad.phase.of.flight':'Broad.Phase.of.Flight'})\n",
    "\n",
    "# Filtering out 'Amateur.Built' aircraft\n",
    "df = df[df['Amateur.Built'] == 'no']\n",
    "# And only keep 'airplane' from the 'Aircraft.Category' column\n",
    "df = df[df['Aircraft.Category'] == 'airplane']\n",
    "\n",
    "df.info()"
   ]
  },
  {
   "cell_type": "markdown",
   "metadata": {},
   "source": [
    "# Geographic Filtering"
   ]
  },
  {
   "cell_type": "code",
   "execution_count": null,
   "metadata": {},
   "outputs": [],
   "source": [
    "# Only using US incidents\n",
    "df = df[df['Country'] == 'united states']\n",
    "\n",
    "# Pull state info from locations and create new column\n",
    "df['State'] = df['Location'].str.split(',').str[-1].str.strip().str.upper()\n",
    "df['State'].value_counts()"
   ]
  },
  {
   "cell_type": "code",
   "execution_count": null,
   "metadata": {},
   "outputs": [],
   "source": [
    "# Merge state names to abbreviated codes\n",
    "df = pd.merge(df, state_codes, how='left', left_on='State', right_on='Abbreviation')\n",
    "df = df.drop(['Abbreviation'], 1)\n",
    "df = df.rename(columns={'State':'State.Code','US_State':\"State.Name\"})\n"
   ]
  },
  {
   "cell_type": "markdown",
   "metadata": {},
   "source": [
    "# FAR Codes & Purpose of Flight"
   ]
  },
  {
   "cell_type": "code",
   "execution_count": null,
   "metadata": {},
   "outputs": [],
   "source": [
    "# Cleaning up the FAR.Description column using a .replace() \n",
    "# See here for more info on FAR: \n",
    "# https://pilotinstitute.com/part-91-vs-121-vs-135/\n",
    "\n",
    "df['FAR.Description'] = df['FAR.Description'].replace({\n",
    "    '091': 'part 91',\n",
    "    'part 91: general aviation': 'part 91',\n",
    "    '137': 'part 137',\n",
    "    '135': 'part 135',\n",
    "    '121': 'part 121',\n",
    "    'part 137: agricultural': 'part 137',\n",
    "    'part 135: air taxi & commuter': 'part 135',\n",
    "    '129': 'part 129',\n",
    "    'part 121: air carrier': 'part 121',\n",
    "    '133': 'part 133',\n",
    "    'part 129: foreign': 'part 129',\n",
    "    'part 133: rotorcraft external load': 'part 133',\n",
    "    'part 133: rotorcraft ext. load': 'part 133',\n",
    "    '125' : 'part 125',\n",
    "    'part 125: 20+ pax,6000+ lbs': 'part 125',\n",
    "    '107': 'part 107',\n",
    "    '103': 'part 103',\n",
    "    '437': 'part 437',\n",
    "    'part91f': 'part 91',\n",
    "    'part 91 subpart f': 'part 91',\n",
    "    'part 91f: special flt ops.': 'part 91',\n",
    "    'part 91 subpart k: fractional': 'part 91',\n",
    "    '091k': 'part 91',\n",
    "    'pubu': 'public',\n",
    "    'public use': 'public',\n",
    "    'public aircraft': 'public',\n",
    "    'armed forces': 'armf',\n",
    "}\n",
    ")\n",
    "\n",
    "df['FAR.Description'].value_counts()"
   ]
  },
  {
   "cell_type": "code",
   "execution_count": null,
   "metadata": {},
   "outputs": [],
   "source": [
    "df['Purpose.of.Flight'].value_counts()"
   ]
  },
  {
   "cell_type": "code",
   "execution_count": null,
   "metadata": {},
   "outputs": [],
   "source": [
    "# Grouping the 'Purpose.of.Flight' category into more general categories\n",
    "# New category 'public' to include 'public aircraft', 'public aircraft - federal', 'public aircraft - state', 'public aircraft - local', 'public aircraft - u.s. govt.'\n",
    "df['Purpose.Binned'] = df['Purpose.of.Flight'].replace(['public aircraft', 'public aircraft - federal', 'public aircraft - state', 'public aircraft - local', 'public aircraft - u.s. govt.'], 'public')\n",
    "\n",
    "# New category 'business' to include 'aerial application', 'business', 'other work use', 'banner tow', 'air drop'\n",
    "df['Purpose.Binned'] = df['Purpose.Binned'].replace(['aerial application', 'business', 'other work use', 'banner tow', 'air drop'], 'business')\n",
    "\n",
    "# New category 'recreational' to include 'skydiving', 'glider tow'\n",
    "df['Purpose.Binned'] = df['Purpose.Binned'].replace(['skydiving', 'glider tow'], 'recreational')\n",
    "\n",
    "# New category 'small transport' to include 'executive/corporate', 'ferry'\n",
    "df['Purpose.Binned'] = df['Purpose.Binned'].replace(['executive/corporate', 'ferry'], 'small transport')\n",
    "\n",
    "# Adding 'pubs', 'firefighting' to category 'public'\n",
    "df['Purpose.Binned'] = df['Purpose.Binned'].replace(['pubs', 'firefighting'], 'public')\n",
    "\n",
    "# Adding 'flight test' to category 'instructional'\n",
    "df['Purpose.Binned'] = df['Purpose.Binned'].replace(['flight test'], 'instructional')\n",
    "\n",
    "# New category 'air show' to include 'air race show', 'air race/show', 'asho'\n",
    "df['Purpose.Binned'] = df['Purpose.Binned'].replace(['air race show', 'air race/show', 'asho'], 'air show')\n",
    "\n",
    "df['Purpose.Binned'].value_counts()"
   ]
  },
  {
   "cell_type": "markdown",
   "metadata": {},
   "source": [
    "## Filtering the 'Make' series\n"
   ]
  },
  {
   "cell_type": "code",
   "execution_count": null,
   "metadata": {},
   "outputs": [],
   "source": [
    "# Checking out the raw 'Make' values\n",
    "df['Make'].value_counts()"
   ]
  },
  {
   "cell_type": "code",
   "execution_count": null,
   "metadata": {},
   "outputs": [],
   "source": [
    "\n",
    "# Make a list of all the entries that have \"cessna\" in them and return their strings in a list\n",
    "cessna_list = df[df['Make'].str.contains('cessna')]['Make'].unique().tolist()\n",
    "\n",
    "# Do the same with the other big makes\n",
    "grumman_list = df[df['Make'].str.contains('grumman')]['Make'].unique().tolist()\n",
    "dehavilland_list = df[df['Make'].str.contains('havilland')]['Make'].unique().tolist()\n",
    "cirrus_list = df[df['Make'].str.contains('cirrus')]['Make'].unique().tolist()\n",
    "piper_list = df[df['Make'].str.contains('piper')]['Make'].unique().tolist()\n",
    "boeing_list = df[df['Make'].str.contains('boeing')]['Make'].unique().tolist()\n",
    "mooney_list = df[df['Make'].str.contains('mooney')]['Make'].unique().tolist()\n",
    "airtractor_list = df[df['Make'].str.contains('air tractor')]['Make'].unique().tolist()\n",
    "\n",
    "print(cessna_list)\n",
    "print(grumman_list)\n",
    "print(dehavilland_list)\n",
    "print(cirrus_list)\n",
    "print(piper_list)\n",
    "print(boeing_list)\n",
    "print(mooney_list)\n",
    "print(airtractor_list)"
   ]
  },
  {
   "cell_type": "code",
   "execution_count": null,
   "metadata": {},
   "outputs": [],
   "source": [
    "df['Make'] = df['Make'].replace(cessna_list, 'cessna')\n",
    "df['Make'] = df['Make'].replace(grumman_list, 'grumman')\n",
    "df['Make'] = df['Make'].replace(dehavilland_list, 'dehavilland')\n",
    "df['Make'] = df['Make'].replace(cirrus_list, 'cirrus')\n",
    "df['Make'] = df['Make'].replace(piper_list, 'piper')\n",
    "df['Make'] = df['Make'].replace(mooney_list, 'mooney')\n",
    "df['Make'] = df['Make'].replace(airtractor_list, 'airtractor')\n",
    "\n",
    "# And we can now see the totals, with slightly different numbers than before\n",
    "df['Make'].value_counts()"
   ]
  },
  {
   "cell_type": "code",
   "execution_count": null,
   "metadata": {},
   "outputs": [],
   "source": [
    "# Making a new df that only accepts the top 25 makes:\n",
    "top_makes = df['Make'].value_counts().head(25).index.tolist()\n",
    "top_makes_df = df[df['Make'].isin(top_makes)].copy()\n",
    "top_makes_df['Make'].value_counts()"
   ]
  },
  {
   "cell_type": "markdown",
   "metadata": {},
   "source": [
    "# Airports"
   ]
  },
  {
   "cell_type": "code",
   "execution_count": null,
   "metadata": {},
   "outputs": [],
   "source": [
    "# Clean airport names\n",
    "\n",
    "df['Airport.Name'] = df['Airport.Name'].replace(['private airstrip', 'private strip', 'pvt'], 'private')\n",
    "df['Airport.Name'].value_counts()"
   ]
  },
  {
   "cell_type": "markdown",
   "metadata": {},
   "source": [
    "# Injury Severity"
   ]
  },
  {
   "cell_type": "code",
   "execution_count": null,
   "metadata": {},
   "outputs": [],
   "source": [
    "# Looking at the 'Injury.Severity' column\n",
    "# We see that it tells us how many people died in a given incident\n",
    "df['Injury.Severity'].value_counts().head(20)"
   ]
  },
  {
   "cell_type": "code",
   "execution_count": null,
   "metadata": {},
   "outputs": [],
   "source": [
    "# Split number from Fatal(#) to count number of fatalities\n",
    "# Create a new column tracking the number of these fatalities\n",
    "df['Num.Fatalities'] = df['Injury.Severity'].str.split('(').str[-1]\n",
    "df['Num.Fatalities'] = df['Num.Fatalities'].str.split(')').str[0]\n",
    "df['Num.Fatalities'] = pd.to_numeric(df['Num.Fatalities'], errors='coerce').fillna(0).astype(int)\n",
    "df['Num.Fatalities'].value_counts()"
   ]
  },
  {
   "cell_type": "markdown",
   "metadata": {},
   "source": [
    "# Injury Severity"
   ]
  },
  {
   "cell_type": "code",
   "execution_count": null,
   "metadata": {},
   "outputs": [],
   "source": [
    "# Update labeling in 'Injury.Severity' column, since we now have a different column that tracks total number of fatalities\n",
    "\n",
    "df['Injury.Severity'] = df['Injury.Severity'].str.split('(').str[0]\n",
    "df['Injury.Severity'].value_counts()"
   ]
  },
  {
   "cell_type": "markdown",
   "metadata": {},
   "source": [
    "# Weather"
   ]
  },
  {
   "cell_type": "code",
   "execution_count": null,
   "metadata": {},
   "outputs": [],
   "source": [
    "# Clean 'Weather.Condition'\n",
    "\n",
    "df['Weather.Condition'] = df['Weather.Condition'].str.upper()\n",
    "df['Weather.Condition'].value_counts()\n",
    "\n",
    "# VMC - Visual Meteorological Conditions - generally clear and good visibility; pilots can navigate and operate aircraft by visual reference to the ground\n",
    "# IMC - Instrument Meteorological Conditions - reduced visibility due to factors like fog, rain, or low clouds; pilots may need to rely on instruments for navigation and control\n",
    "# UNK - Unknown"
   ]
  },
  {
   "cell_type": "markdown",
   "metadata": {},
   "source": [
    "# Save cleaned .csv"
   ]
  },
  {
   "cell_type": "code",
   "execution_count": null,
   "metadata": {},
   "outputs": [],
   "source": [
    "# Save cleaned df to a new csv file\n",
    "df.to_csv('../data/AviationData_cleaned.csv', index=False)"
   ]
  },
  {
   "cell_type": "code",
   "execution_count": null,
   "metadata": {},
   "outputs": [],
   "source": []
  }
 ],
 "metadata": {
  "kernelspec": {
   "display_name": "learn-env",
   "language": "python",
   "name": "python3"
  },
  "language_info": {
   "codemirror_mode": {
    "name": "ipython",
    "version": 3
   },
   "file_extension": ".py",
   "mimetype": "text/x-python",
   "name": "python",
   "nbconvert_exporter": "python",
   "pygments_lexer": "ipython3",
   "version": "3.8.5"
  }
 },
 "nbformat": 4,
 "nbformat_minor": 2
}
